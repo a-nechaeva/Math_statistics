{
  "nbformat": 4,
  "nbformat_minor": 0,
  "metadata": {
    "colab": {
      "provenance": []
    },
    "kernelspec": {
      "name": "python3",
      "display_name": "Python 3"
    },
    "language_info": {
      "name": "python"
    }
  },
  "cells": [
    {
      "cell_type": "markdown",
      "source": [
        "# Лабораторная работа № 3\n",
        "***\n",
        "\n",
        "Работу выполнила:\n",
        "\n",
        "**Нечаева Анна Анатольевна, 312298**\n",
        "***\n"
      ],
      "metadata": {
        "id": "7352ID-CCCha"
      }
    },
    {
      "cell_type": "markdown",
      "source": [
        "## Вариант 1"
      ],
      "metadata": {
        "id": "mPJvOWgoy7Sb"
      }
    },
    {
      "cell_type": "markdown",
      "source": [
        "Для каждой проблемы нужно провести два статистических теста, если не сказано иное, причем первый из критериев нужно реализовать самостоятельно (считать и выводить значение статистики, критическое значение, $p-value$), в качестве второго можно воспользоваться готовой реализацией. Также нужно отдельно указывать, как формализуются $H_0$ и $H_1$ для выбранных тестов. Уровень значимости определить самостоятльно."
      ],
      "metadata": {
        "id": "CWNORODGzCGP"
      }
    },
    {
      "cell_type": "markdown",
      "source": [
        "***\n",
        "*Подготовительный этап: подключение к хранилищу данных, импорт необходимых библиотек и считывание данных из файла.*\n",
        "***"
      ],
      "metadata": {
        "id": "0A-UVjR9nmh4"
      }
    },
    {
      "cell_type": "code",
      "source": [
        "from google.colab import drive\n",
        "drive.mount('/content/drive')"
      ],
      "metadata": {
        "colab": {
          "base_uri": "https://localhost:8080/"
        },
        "id": "g5qp-5Wrl0j0",
        "outputId": "e36019c0-c0eb-43af-82fe-246017d239e6"
      },
      "execution_count": null,
      "outputs": [
        {
          "output_type": "stream",
          "name": "stdout",
          "text": [
            "Mounted at /content/drive\n"
          ]
        }
      ]
    },
    {
      "cell_type": "code",
      "source": [
        "import numpy as np\n",
        "import pandas as pd\n",
        "import matplotlib.pyplot as plt\n",
        "import warnings\n",
        "warnings.filterwarnings('ignore')"
      ],
      "metadata": {
        "id": "qGFBqdKAm7ix"
      },
      "execution_count": null,
      "outputs": []
    },
    {
      "cell_type": "code",
      "source": [
        "house_data = pd.read_csv('drive/MyDrive/MathStat/kc_house_data.csv')"
      ],
      "metadata": {
        "id": "68Js1rmcmrTG"
      },
      "execution_count": null,
      "outputs": []
    },
    {
      "cell_type": "code",
      "source": [
        "house_data"
      ],
      "metadata": {
        "colab": {
          "base_uri": "https://localhost:8080/",
          "height": 444
        },
        "id": "vrLABojRoC5p",
        "outputId": "c1893050-78b6-4b41-9806-f4708fb9a4a4"
      },
      "execution_count": null,
      "outputs": [
        {
          "output_type": "execute_result",
          "data": {
            "text/plain": [
              "               id             date     price  bedrooms  bathrooms  \\\n",
              "0      7129300520  20141013T000000  221900.0         3       1.00   \n",
              "1      6414100192  20141209T000000  538000.0         3       2.25   \n",
              "2      5631500400  20150225T000000  180000.0         2       1.00   \n",
              "3      2487200875  20141209T000000  604000.0         4       3.00   \n",
              "4      1954400510  20150218T000000  510000.0         3       2.00   \n",
              "...           ...              ...       ...       ...        ...   \n",
              "21608   263000018  20140521T000000  360000.0         3       2.50   \n",
              "21609  6600060120  20150223T000000  400000.0         4       2.50   \n",
              "21610  1523300141  20140623T000000  402101.0         2       0.75   \n",
              "21611   291310100  20150116T000000  400000.0         3       2.50   \n",
              "21612  1523300157  20141015T000000  325000.0         2       0.75   \n",
              "\n",
              "       sqft_living  sqft_lot  floors  waterfront  view  ...  grade  \\\n",
              "0             1180      5650     1.0           0     0  ...      7   \n",
              "1             2570      7242     2.0           0     0  ...      7   \n",
              "2              770     10000     1.0           0     0  ...      6   \n",
              "3             1960      5000     1.0           0     0  ...      7   \n",
              "4             1680      8080     1.0           0     0  ...      8   \n",
              "...            ...       ...     ...         ...   ...  ...    ...   \n",
              "21608         1530      1131     3.0           0     0  ...      8   \n",
              "21609         2310      5813     2.0           0     0  ...      8   \n",
              "21610         1020      1350     2.0           0     0  ...      7   \n",
              "21611         1600      2388     2.0           0     0  ...      8   \n",
              "21612         1020      1076     2.0           0     0  ...      7   \n",
              "\n",
              "       sqft_above  sqft_basement  yr_built  yr_renovated  zipcode      lat  \\\n",
              "0            1180              0      1955             0    98178  47.5112   \n",
              "1            2170            400      1951          1991    98125  47.7210   \n",
              "2             770              0      1933             0    98028  47.7379   \n",
              "3            1050            910      1965             0    98136  47.5208   \n",
              "4            1680              0      1987             0    98074  47.6168   \n",
              "...           ...            ...       ...           ...      ...      ...   \n",
              "21608        1530              0      2009             0    98103  47.6993   \n",
              "21609        2310              0      2014             0    98146  47.5107   \n",
              "21610        1020              0      2009             0    98144  47.5944   \n",
              "21611        1600              0      2004             0    98027  47.5345   \n",
              "21612        1020              0      2008             0    98144  47.5941   \n",
              "\n",
              "          long  sqft_living15  sqft_lot15  \n",
              "0     -122.257           1340        5650  \n",
              "1     -122.319           1690        7639  \n",
              "2     -122.233           2720        8062  \n",
              "3     -122.393           1360        5000  \n",
              "4     -122.045           1800        7503  \n",
              "...        ...            ...         ...  \n",
              "21608 -122.346           1530        1509  \n",
              "21609 -122.362           1830        7200  \n",
              "21610 -122.299           1020        2007  \n",
              "21611 -122.069           1410        1287  \n",
              "21612 -122.299           1020        1357  \n",
              "\n",
              "[21613 rows x 21 columns]"
            ],
            "text/html": [
              "\n",
              "  <div id=\"df-41a195a9-1445-4bb3-ace8-785367644f01\" class=\"colab-df-container\">\n",
              "    <div>\n",
              "<style scoped>\n",
              "    .dataframe tbody tr th:only-of-type {\n",
              "        vertical-align: middle;\n",
              "    }\n",
              "\n",
              "    .dataframe tbody tr th {\n",
              "        vertical-align: top;\n",
              "    }\n",
              "\n",
              "    .dataframe thead th {\n",
              "        text-align: right;\n",
              "    }\n",
              "</style>\n",
              "<table border=\"1\" class=\"dataframe\">\n",
              "  <thead>\n",
              "    <tr style=\"text-align: right;\">\n",
              "      <th></th>\n",
              "      <th>id</th>\n",
              "      <th>date</th>\n",
              "      <th>price</th>\n",
              "      <th>bedrooms</th>\n",
              "      <th>bathrooms</th>\n",
              "      <th>sqft_living</th>\n",
              "      <th>sqft_lot</th>\n",
              "      <th>floors</th>\n",
              "      <th>waterfront</th>\n",
              "      <th>view</th>\n",
              "      <th>...</th>\n",
              "      <th>grade</th>\n",
              "      <th>sqft_above</th>\n",
              "      <th>sqft_basement</th>\n",
              "      <th>yr_built</th>\n",
              "      <th>yr_renovated</th>\n",
              "      <th>zipcode</th>\n",
              "      <th>lat</th>\n",
              "      <th>long</th>\n",
              "      <th>sqft_living15</th>\n",
              "      <th>sqft_lot15</th>\n",
              "    </tr>\n",
              "  </thead>\n",
              "  <tbody>\n",
              "    <tr>\n",
              "      <th>0</th>\n",
              "      <td>7129300520</td>\n",
              "      <td>20141013T000000</td>\n",
              "      <td>221900.0</td>\n",
              "      <td>3</td>\n",
              "      <td>1.00</td>\n",
              "      <td>1180</td>\n",
              "      <td>5650</td>\n",
              "      <td>1.0</td>\n",
              "      <td>0</td>\n",
              "      <td>0</td>\n",
              "      <td>...</td>\n",
              "      <td>7</td>\n",
              "      <td>1180</td>\n",
              "      <td>0</td>\n",
              "      <td>1955</td>\n",
              "      <td>0</td>\n",
              "      <td>98178</td>\n",
              "      <td>47.5112</td>\n",
              "      <td>-122.257</td>\n",
              "      <td>1340</td>\n",
              "      <td>5650</td>\n",
              "    </tr>\n",
              "    <tr>\n",
              "      <th>1</th>\n",
              "      <td>6414100192</td>\n",
              "      <td>20141209T000000</td>\n",
              "      <td>538000.0</td>\n",
              "      <td>3</td>\n",
              "      <td>2.25</td>\n",
              "      <td>2570</td>\n",
              "      <td>7242</td>\n",
              "      <td>2.0</td>\n",
              "      <td>0</td>\n",
              "      <td>0</td>\n",
              "      <td>...</td>\n",
              "      <td>7</td>\n",
              "      <td>2170</td>\n",
              "      <td>400</td>\n",
              "      <td>1951</td>\n",
              "      <td>1991</td>\n",
              "      <td>98125</td>\n",
              "      <td>47.7210</td>\n",
              "      <td>-122.319</td>\n",
              "      <td>1690</td>\n",
              "      <td>7639</td>\n",
              "    </tr>\n",
              "    <tr>\n",
              "      <th>2</th>\n",
              "      <td>5631500400</td>\n",
              "      <td>20150225T000000</td>\n",
              "      <td>180000.0</td>\n",
              "      <td>2</td>\n",
              "      <td>1.00</td>\n",
              "      <td>770</td>\n",
              "      <td>10000</td>\n",
              "      <td>1.0</td>\n",
              "      <td>0</td>\n",
              "      <td>0</td>\n",
              "      <td>...</td>\n",
              "      <td>6</td>\n",
              "      <td>770</td>\n",
              "      <td>0</td>\n",
              "      <td>1933</td>\n",
              "      <td>0</td>\n",
              "      <td>98028</td>\n",
              "      <td>47.7379</td>\n",
              "      <td>-122.233</td>\n",
              "      <td>2720</td>\n",
              "      <td>8062</td>\n",
              "    </tr>\n",
              "    <tr>\n",
              "      <th>3</th>\n",
              "      <td>2487200875</td>\n",
              "      <td>20141209T000000</td>\n",
              "      <td>604000.0</td>\n",
              "      <td>4</td>\n",
              "      <td>3.00</td>\n",
              "      <td>1960</td>\n",
              "      <td>5000</td>\n",
              "      <td>1.0</td>\n",
              "      <td>0</td>\n",
              "      <td>0</td>\n",
              "      <td>...</td>\n",
              "      <td>7</td>\n",
              "      <td>1050</td>\n",
              "      <td>910</td>\n",
              "      <td>1965</td>\n",
              "      <td>0</td>\n",
              "      <td>98136</td>\n",
              "      <td>47.5208</td>\n",
              "      <td>-122.393</td>\n",
              "      <td>1360</td>\n",
              "      <td>5000</td>\n",
              "    </tr>\n",
              "    <tr>\n",
              "      <th>4</th>\n",
              "      <td>1954400510</td>\n",
              "      <td>20150218T000000</td>\n",
              "      <td>510000.0</td>\n",
              "      <td>3</td>\n",
              "      <td>2.00</td>\n",
              "      <td>1680</td>\n",
              "      <td>8080</td>\n",
              "      <td>1.0</td>\n",
              "      <td>0</td>\n",
              "      <td>0</td>\n",
              "      <td>...</td>\n",
              "      <td>8</td>\n",
              "      <td>1680</td>\n",
              "      <td>0</td>\n",
              "      <td>1987</td>\n",
              "      <td>0</td>\n",
              "      <td>98074</td>\n",
              "      <td>47.6168</td>\n",
              "      <td>-122.045</td>\n",
              "      <td>1800</td>\n",
              "      <td>7503</td>\n",
              "    </tr>\n",
              "    <tr>\n",
              "      <th>...</th>\n",
              "      <td>...</td>\n",
              "      <td>...</td>\n",
              "      <td>...</td>\n",
              "      <td>...</td>\n",
              "      <td>...</td>\n",
              "      <td>...</td>\n",
              "      <td>...</td>\n",
              "      <td>...</td>\n",
              "      <td>...</td>\n",
              "      <td>...</td>\n",
              "      <td>...</td>\n",
              "      <td>...</td>\n",
              "      <td>...</td>\n",
              "      <td>...</td>\n",
              "      <td>...</td>\n",
              "      <td>...</td>\n",
              "      <td>...</td>\n",
              "      <td>...</td>\n",
              "      <td>...</td>\n",
              "      <td>...</td>\n",
              "      <td>...</td>\n",
              "    </tr>\n",
              "    <tr>\n",
              "      <th>21608</th>\n",
              "      <td>263000018</td>\n",
              "      <td>20140521T000000</td>\n",
              "      <td>360000.0</td>\n",
              "      <td>3</td>\n",
              "      <td>2.50</td>\n",
              "      <td>1530</td>\n",
              "      <td>1131</td>\n",
              "      <td>3.0</td>\n",
              "      <td>0</td>\n",
              "      <td>0</td>\n",
              "      <td>...</td>\n",
              "      <td>8</td>\n",
              "      <td>1530</td>\n",
              "      <td>0</td>\n",
              "      <td>2009</td>\n",
              "      <td>0</td>\n",
              "      <td>98103</td>\n",
              "      <td>47.6993</td>\n",
              "      <td>-122.346</td>\n",
              "      <td>1530</td>\n",
              "      <td>1509</td>\n",
              "    </tr>\n",
              "    <tr>\n",
              "      <th>21609</th>\n",
              "      <td>6600060120</td>\n",
              "      <td>20150223T000000</td>\n",
              "      <td>400000.0</td>\n",
              "      <td>4</td>\n",
              "      <td>2.50</td>\n",
              "      <td>2310</td>\n",
              "      <td>5813</td>\n",
              "      <td>2.0</td>\n",
              "      <td>0</td>\n",
              "      <td>0</td>\n",
              "      <td>...</td>\n",
              "      <td>8</td>\n",
              "      <td>2310</td>\n",
              "      <td>0</td>\n",
              "      <td>2014</td>\n",
              "      <td>0</td>\n",
              "      <td>98146</td>\n",
              "      <td>47.5107</td>\n",
              "      <td>-122.362</td>\n",
              "      <td>1830</td>\n",
              "      <td>7200</td>\n",
              "    </tr>\n",
              "    <tr>\n",
              "      <th>21610</th>\n",
              "      <td>1523300141</td>\n",
              "      <td>20140623T000000</td>\n",
              "      <td>402101.0</td>\n",
              "      <td>2</td>\n",
              "      <td>0.75</td>\n",
              "      <td>1020</td>\n",
              "      <td>1350</td>\n",
              "      <td>2.0</td>\n",
              "      <td>0</td>\n",
              "      <td>0</td>\n",
              "      <td>...</td>\n",
              "      <td>7</td>\n",
              "      <td>1020</td>\n",
              "      <td>0</td>\n",
              "      <td>2009</td>\n",
              "      <td>0</td>\n",
              "      <td>98144</td>\n",
              "      <td>47.5944</td>\n",
              "      <td>-122.299</td>\n",
              "      <td>1020</td>\n",
              "      <td>2007</td>\n",
              "    </tr>\n",
              "    <tr>\n",
              "      <th>21611</th>\n",
              "      <td>291310100</td>\n",
              "      <td>20150116T000000</td>\n",
              "      <td>400000.0</td>\n",
              "      <td>3</td>\n",
              "      <td>2.50</td>\n",
              "      <td>1600</td>\n",
              "      <td>2388</td>\n",
              "      <td>2.0</td>\n",
              "      <td>0</td>\n",
              "      <td>0</td>\n",
              "      <td>...</td>\n",
              "      <td>8</td>\n",
              "      <td>1600</td>\n",
              "      <td>0</td>\n",
              "      <td>2004</td>\n",
              "      <td>0</td>\n",
              "      <td>98027</td>\n",
              "      <td>47.5345</td>\n",
              "      <td>-122.069</td>\n",
              "      <td>1410</td>\n",
              "      <td>1287</td>\n",
              "    </tr>\n",
              "    <tr>\n",
              "      <th>21612</th>\n",
              "      <td>1523300157</td>\n",
              "      <td>20141015T000000</td>\n",
              "      <td>325000.0</td>\n",
              "      <td>2</td>\n",
              "      <td>0.75</td>\n",
              "      <td>1020</td>\n",
              "      <td>1076</td>\n",
              "      <td>2.0</td>\n",
              "      <td>0</td>\n",
              "      <td>0</td>\n",
              "      <td>...</td>\n",
              "      <td>7</td>\n",
              "      <td>1020</td>\n",
              "      <td>0</td>\n",
              "      <td>2008</td>\n",
              "      <td>0</td>\n",
              "      <td>98144</td>\n",
              "      <td>47.5941</td>\n",
              "      <td>-122.299</td>\n",
              "      <td>1020</td>\n",
              "      <td>1357</td>\n",
              "    </tr>\n",
              "  </tbody>\n",
              "</table>\n",
              "<p>21613 rows × 21 columns</p>\n",
              "</div>\n",
              "    <div class=\"colab-df-buttons\">\n",
              "\n",
              "  <div class=\"colab-df-container\">\n",
              "    <button class=\"colab-df-convert\" onclick=\"convertToInteractive('df-41a195a9-1445-4bb3-ace8-785367644f01')\"\n",
              "            title=\"Convert this dataframe to an interactive table.\"\n",
              "            style=\"display:none;\">\n",
              "\n",
              "  <svg xmlns=\"http://www.w3.org/2000/svg\" height=\"24px\" viewBox=\"0 -960 960 960\">\n",
              "    <path d=\"M120-120v-720h720v720H120Zm60-500h600v-160H180v160Zm220 220h160v-160H400v160Zm0 220h160v-160H400v160ZM180-400h160v-160H180v160Zm440 0h160v-160H620v160ZM180-180h160v-160H180v160Zm440 0h160v-160H620v160Z\"/>\n",
              "  </svg>\n",
              "    </button>\n",
              "\n",
              "  <style>\n",
              "    .colab-df-container {\n",
              "      display:flex;\n",
              "      gap: 12px;\n",
              "    }\n",
              "\n",
              "    .colab-df-convert {\n",
              "      background-color: #E8F0FE;\n",
              "      border: none;\n",
              "      border-radius: 50%;\n",
              "      cursor: pointer;\n",
              "      display: none;\n",
              "      fill: #1967D2;\n",
              "      height: 32px;\n",
              "      padding: 0 0 0 0;\n",
              "      width: 32px;\n",
              "    }\n",
              "\n",
              "    .colab-df-convert:hover {\n",
              "      background-color: #E2EBFA;\n",
              "      box-shadow: 0px 1px 2px rgba(60, 64, 67, 0.3), 0px 1px 3px 1px rgba(60, 64, 67, 0.15);\n",
              "      fill: #174EA6;\n",
              "    }\n",
              "\n",
              "    .colab-df-buttons div {\n",
              "      margin-bottom: 4px;\n",
              "    }\n",
              "\n",
              "    [theme=dark] .colab-df-convert {\n",
              "      background-color: #3B4455;\n",
              "      fill: #D2E3FC;\n",
              "    }\n",
              "\n",
              "    [theme=dark] .colab-df-convert:hover {\n",
              "      background-color: #434B5C;\n",
              "      box-shadow: 0px 1px 3px 1px rgba(0, 0, 0, 0.15);\n",
              "      filter: drop-shadow(0px 1px 2px rgba(0, 0, 0, 0.3));\n",
              "      fill: #FFFFFF;\n",
              "    }\n",
              "  </style>\n",
              "\n",
              "    <script>\n",
              "      const buttonEl =\n",
              "        document.querySelector('#df-41a195a9-1445-4bb3-ace8-785367644f01 button.colab-df-convert');\n",
              "      buttonEl.style.display =\n",
              "        google.colab.kernel.accessAllowed ? 'block' : 'none';\n",
              "\n",
              "      async function convertToInteractive(key) {\n",
              "        const element = document.querySelector('#df-41a195a9-1445-4bb3-ace8-785367644f01');\n",
              "        const dataTable =\n",
              "          await google.colab.kernel.invokeFunction('convertToInteractive',\n",
              "                                                    [key], {});\n",
              "        if (!dataTable) return;\n",
              "\n",
              "        const docLinkHtml = 'Like what you see? Visit the ' +\n",
              "          '<a target=\"_blank\" href=https://colab.research.google.com/notebooks/data_table.ipynb>data table notebook</a>'\n",
              "          + ' to learn more about interactive tables.';\n",
              "        element.innerHTML = '';\n",
              "        dataTable['output_type'] = 'display_data';\n",
              "        await google.colab.output.renderOutput(dataTable, element);\n",
              "        const docLink = document.createElement('div');\n",
              "        docLink.innerHTML = docLinkHtml;\n",
              "        element.appendChild(docLink);\n",
              "      }\n",
              "    </script>\n",
              "  </div>\n",
              "\n",
              "\n",
              "<div id=\"df-9942d2d2-3a25-4520-8b55-7624ed80e20f\">\n",
              "  <button class=\"colab-df-quickchart\" onclick=\"quickchart('df-9942d2d2-3a25-4520-8b55-7624ed80e20f')\"\n",
              "            title=\"Suggest charts\"\n",
              "            style=\"display:none;\">\n",
              "\n",
              "<svg xmlns=\"http://www.w3.org/2000/svg\" height=\"24px\"viewBox=\"0 0 24 24\"\n",
              "     width=\"24px\">\n",
              "    <g>\n",
              "        <path d=\"M19 3H5c-1.1 0-2 .9-2 2v14c0 1.1.9 2 2 2h14c1.1 0 2-.9 2-2V5c0-1.1-.9-2-2-2zM9 17H7v-7h2v7zm4 0h-2V7h2v10zm4 0h-2v-4h2v4z\"/>\n",
              "    </g>\n",
              "</svg>\n",
              "  </button>\n",
              "\n",
              "<style>\n",
              "  .colab-df-quickchart {\n",
              "      --bg-color: #E8F0FE;\n",
              "      --fill-color: #1967D2;\n",
              "      --hover-bg-color: #E2EBFA;\n",
              "      --hover-fill-color: #174EA6;\n",
              "      --disabled-fill-color: #AAA;\n",
              "      --disabled-bg-color: #DDD;\n",
              "  }\n",
              "\n",
              "  [theme=dark] .colab-df-quickchart {\n",
              "      --bg-color: #3B4455;\n",
              "      --fill-color: #D2E3FC;\n",
              "      --hover-bg-color: #434B5C;\n",
              "      --hover-fill-color: #FFFFFF;\n",
              "      --disabled-bg-color: #3B4455;\n",
              "      --disabled-fill-color: #666;\n",
              "  }\n",
              "\n",
              "  .colab-df-quickchart {\n",
              "    background-color: var(--bg-color);\n",
              "    border: none;\n",
              "    border-radius: 50%;\n",
              "    cursor: pointer;\n",
              "    display: none;\n",
              "    fill: var(--fill-color);\n",
              "    height: 32px;\n",
              "    padding: 0;\n",
              "    width: 32px;\n",
              "  }\n",
              "\n",
              "  .colab-df-quickchart:hover {\n",
              "    background-color: var(--hover-bg-color);\n",
              "    box-shadow: 0 1px 2px rgba(60, 64, 67, 0.3), 0 1px 3px 1px rgba(60, 64, 67, 0.15);\n",
              "    fill: var(--button-hover-fill-color);\n",
              "  }\n",
              "\n",
              "  .colab-df-quickchart-complete:disabled,\n",
              "  .colab-df-quickchart-complete:disabled:hover {\n",
              "    background-color: var(--disabled-bg-color);\n",
              "    fill: var(--disabled-fill-color);\n",
              "    box-shadow: none;\n",
              "  }\n",
              "\n",
              "  .colab-df-spinner {\n",
              "    border: 2px solid var(--fill-color);\n",
              "    border-color: transparent;\n",
              "    border-bottom-color: var(--fill-color);\n",
              "    animation:\n",
              "      spin 1s steps(1) infinite;\n",
              "  }\n",
              "\n",
              "  @keyframes spin {\n",
              "    0% {\n",
              "      border-color: transparent;\n",
              "      border-bottom-color: var(--fill-color);\n",
              "      border-left-color: var(--fill-color);\n",
              "    }\n",
              "    20% {\n",
              "      border-color: transparent;\n",
              "      border-left-color: var(--fill-color);\n",
              "      border-top-color: var(--fill-color);\n",
              "    }\n",
              "    30% {\n",
              "      border-color: transparent;\n",
              "      border-left-color: var(--fill-color);\n",
              "      border-top-color: var(--fill-color);\n",
              "      border-right-color: var(--fill-color);\n",
              "    }\n",
              "    40% {\n",
              "      border-color: transparent;\n",
              "      border-right-color: var(--fill-color);\n",
              "      border-top-color: var(--fill-color);\n",
              "    }\n",
              "    60% {\n",
              "      border-color: transparent;\n",
              "      border-right-color: var(--fill-color);\n",
              "    }\n",
              "    80% {\n",
              "      border-color: transparent;\n",
              "      border-right-color: var(--fill-color);\n",
              "      border-bottom-color: var(--fill-color);\n",
              "    }\n",
              "    90% {\n",
              "      border-color: transparent;\n",
              "      border-bottom-color: var(--fill-color);\n",
              "    }\n",
              "  }\n",
              "</style>\n",
              "\n",
              "  <script>\n",
              "    async function quickchart(key) {\n",
              "      const quickchartButtonEl =\n",
              "        document.querySelector('#' + key + ' button');\n",
              "      quickchartButtonEl.disabled = true;  // To prevent multiple clicks.\n",
              "      quickchartButtonEl.classList.add('colab-df-spinner');\n",
              "      try {\n",
              "        const charts = await google.colab.kernel.invokeFunction(\n",
              "            'suggestCharts', [key], {});\n",
              "      } catch (error) {\n",
              "        console.error('Error during call to suggestCharts:', error);\n",
              "      }\n",
              "      quickchartButtonEl.classList.remove('colab-df-spinner');\n",
              "      quickchartButtonEl.classList.add('colab-df-quickchart-complete');\n",
              "    }\n",
              "    (() => {\n",
              "      let quickchartButtonEl =\n",
              "        document.querySelector('#df-9942d2d2-3a25-4520-8b55-7624ed80e20f button');\n",
              "      quickchartButtonEl.style.display =\n",
              "        google.colab.kernel.accessAllowed ? 'block' : 'none';\n",
              "    })();\n",
              "  </script>\n",
              "</div>\n",
              "    </div>\n",
              "  </div>\n"
            ],
            "application/vnd.google.colaboratory.intrinsic+json": {
              "type": "dataframe",
              "variable_name": "house_data"
            }
          },
          "metadata": {},
          "execution_count": 5
        }
      ]
    },
    {
      "cell_type": "markdown",
      "source": [
        "### **1. Предположите с каким вероятностным законом распределена цена. С помощью стат. теста подтвердить / опровергнуть это предположение.**"
      ],
      "metadata": {
        "id": "xxirYLyrz8JF"
      }
    },
    {
      "cell_type": "markdown",
      "source": [
        "#### Собственный статистический тест"
      ],
      "metadata": {
        "id": "BybY9tzUoRJP"
      }
    },
    {
      "cell_type": "markdown",
      "source": [
        "*   Рассмотрим гистограму распределения цены"
      ],
      "metadata": {
        "id": "ig7h-eyWrUcQ"
      }
    },
    {
      "cell_type": "code",
      "source": [
        "plt.hist(house_data['price'], bins=56)\n",
        "plt.grid()\n",
        "plt.xlabel('price')\n",
        "plt.ylabel('number of houses')\n",
        "plt.title('Source data')"
      ],
      "metadata": {
        "colab": {
          "base_uri": "https://localhost:8080/",
          "height": 489
        },
        "id": "-i2aNhC-r7dp",
        "outputId": "d6732c36-bf45-4fcf-9ae0-d3e2818c130e"
      },
      "execution_count": null,
      "outputs": [
        {
          "output_type": "execute_result",
          "data": {
            "text/plain": [
              "Text(0.5, 1.0, 'Source data')"
            ]
          },
          "metadata": {},
          "execution_count": 33
        },
        {
          "output_type": "display_data",
          "data": {
            "text/plain": [
              "<Figure size 640x480 with 1 Axes>"
            ],
            "image/png": "[encoded data removed]"
          },
          "metadata": {}
        }
      ]
    },
    {
      "cell_type": "markdown",
      "source": [
        "*   По виду гистограммы, можно предположить, что цены подчинены **экспоненциальному распределению**.\n",
        "\n",
        "Формула плотности вероятности экспоненциального распределения:\n",
        "$$f_X = \\begin{cases} \\lambda e^{-\\lambda x} & x \\geq 0,\\\\ 0 & x < 0 \\end{cases}$$\n",
        "\n",
        "*   Найдем оценку параметра $\\lambda$ методом максимального правдоподобия:\n",
        "\n",
        "   *   Запишем функцию правдоподобия: пусть дана выборка $X_1, X_2, ..., X_N$, тогда функция правдоподобия будет равна произведению плотностей вероятностей:\n",
        "\n",
        "    $$L(\\lambda) = \\Pi_{i=1}^n f(X_i; \\lambda) = \\Pi_{i=1}^n \\lambda e^{-\\lambda X_i} = \\lambda^n e^{-\\lambda \\sum_{i=1}^n X_i}$$\n",
        "\n",
        "    *   Перейдем к логарифмической форме функции правдоподобия:\n",
        "    $$l (\\lambda) = \\ln L(\\lambda) = n \\ln \\lambda -\\lambda \\sum_{i=1}^n X_i$$\n",
        "\n",
        "    *   Вычислим производную $l'_\\lambda$ и прировняем к нулю:\n",
        "\n",
        "    $$ (l_\\lambda)' = \\frac{n}{\\lambda} -\\sum_{i=1}^n X_i = 0 $$\n",
        "\n",
        "    *   Из последнего получим оценку для $\\lambda$:\n",
        "\n",
        "    $$\\lambda = \\frac{n}{\\sum_{i=1}^n X_i} = \\frac{1}{\\overline{X}},$$\n",
        "\n",
        "    где $\\overline{X}-$ среднее выборочное.\n",
        "\n",
        "***\n",
        "\n",
        "\n",
        "*   Построим гистограмму плотностей для цены и функцию плотности вероятности экспоненциального распределения\n"
      ],
      "metadata": {
        "id": "GUuqukF0tEjT"
      }
    },
    {
      "cell_type": "code",
      "source": [
        "import scipy.stats as sps\n",
        "\n",
        "\n",
        "plt.hist(house_data['price'], bins=56, density=True, label='Source data')\n",
        "\n",
        "lambda_1 = 1 / np.mean(house_data['price'])\n",
        "mn_1 = min(house_data['price'])\n",
        "mx_1 = max(house_data['price'])\n",
        "\n",
        "x = np.linspace(mn_1, mx_1)\n",
        "\n",
        "f_exp = sps.expon(scale=1/lambda_1).pdf(x)\n",
        "\n",
        "plt.plot(x, f_exp, label='Theoretical distribution')\n",
        "\n",
        "plt.legend()\n",
        "plt.grid()\n",
        "plt.xlabel('price')\n",
        "plt.ylabel('number of houses')\n",
        "plt.title('Source data and theoretical distribution')"
      ],
      "metadata": {
        "colab": {
          "base_uri": "https://localhost:8080/",
          "height": 489
        },
        "id": "NUYEMC4T3HDR",
        "outputId": "c3eaf810-bd3e-440d-fc18-df0e01325537"
      },
      "execution_count": null,
      "outputs": [
        {
          "output_type": "execute_result",
          "data": {
            "text/plain": [
              "Text(0.5, 1.0, 'Source data and theoretical distribution')"
            ]
          },
          "metadata": {},
          "execution_count": 35
        },
        {
          "output_type": "display_data",
          "data": {
            "text/plain": [
              "<Figure size 640x480 with 1 Axes>"
            ],
            "image/png": "[encoded data removed]"
          },
          "metadata": {}
        }
      ]
    },
    {
      "cell_type": "markdown",
      "source": [
        "*   Формализация $H_0$ и $H_1$\n",
        "   *   Нулевая гипотеза $H_0$: распределение цены подчинено **экспоненциальному распределению**,\n",
        "   *   Альтернативная гипотеза $H_1$:распределение цены не подчинено **экспоненциальному распределению**.\n",
        "   *   Установим также значение **уровня значимости** $\\alpha = 5\\%$\n",
        "\n",
        "* Будем применять критерий согласия Пирсона\n",
        "   *   запишем формулу для статистики\n",
        "   $$χ^2 = N \\sum \\frac{(p_i^{theor} - p_i^{emp})^2}{p_i^{theor}},$$ где $p_i^{theor}-$ предполагаемая вероятность попадания в $i-$й интервал, $p_i^{emp}=\\frac{n_i}{n} -$ соответствующее эмпирическое значение, $n_i-$ число элементов выборки из $i-$го интервала.\n",
        "\n",
        "   * *Если полученная статистика превосходит квантиль закона распределения $χ^2$ заданного уровня значимости $\\alpha$ с $k-1$ или с $k-p-1$ степенями свободы, где $k-$ число наблюдений или число интервалов, а $p-$ число оцениваемых параметров закона распределения, то гипотеза $H_0$ отвергается. В противном случае гипотеза принимается на заданном уровне значимости $\\alpha$.*\n",
        "   ***\n",
        "\n"
      ],
      "metadata": {
        "id": "R_qrB3xx-9fc"
      }
    },
    {
      "cell_type": "code",
      "source": [
        "alpha_1 = 0.05\n",
        "l_1 = len(house_data['price'])\n",
        "p_emp_1, int_1 = np.histogram(house_data['price'], bins=56)\n",
        "k_1 = len(p_emp_1)\n",
        "l_int_1 = int_1[1] - int_1[0]\n",
        "p_theor_1 = l_1 * l_int_1 * sps.expon.pdf(int_1[:-1],scale=1 / lambda_1)\n",
        "\n",
        "stat_count_1 = ((p_theor_1 - p_emp_1) ** 2 / p_theor_1).sum()\n",
        "\n",
        "print('\\u001b[34;1m Значение статистики:\\u001b[36;1m',stat_count_1, '\\u001b[0m')\n",
        "\n",
        "cr_num_1 = sps.chi2.ppf(1 - alpha_1, k_1 - 2)\n",
        "\n",
        "print('\\u001b[34;1m Критическое значение:\\u001b[36;1m',cr_num_1, '\\u001b[0m')\n",
        "\n",
        "p_value_1 = 1 - sps.chi2.cdf(stat_count_1, k_1 - 2)\n",
        "\n",
        "print('\\u001b[34;1m Значение p_value:\\u001b[36;1m',stat_count_1, '\\u001b[0m')\n",
        "\n"
      ],
      "metadata": {
        "colab": {
          "base_uri": "https://localhost:8080/"
        },
        "id": "G3uKkMaUTiAc",
        "outputId": "09c9e83f-aa8e-4b8e-8ab4-39c0bde42911"
      },
      "execution_count": null,
      "outputs": [
        {
          "output_type": "stream",
          "name": "stdout",
          "text": [
            "\u001b[34;1m Значение статистики:\u001b[36;1m 9046.077825281125 \u001b[0m\n",
            "\u001b[34;1m Критическое значение:\u001b[36;1m 72.15321616702309 \u001b[0m\n",
            "\u001b[34;1m Значение p_value:\u001b[36;1m 9046.077825281125 \u001b[0m\n"
          ]
        }
      ]
    },
    {
      "cell_type": "markdown",
      "source": [
        "*   Так как полученное значение статистики превосходит критическое, нулевая гипотеза не подтверждается и распределение не является экспоненциальным.\n",
        "***"
      ],
      "metadata": {
        "id": "8owdEvieYYUa"
      }
    },
    {
      "cell_type": "markdown",
      "source": [
        "#### Использование готовой реализации статистического теста"
      ],
      "metadata": {
        "id": "Zqc5mIkPoeFp"
      }
    },
    {
      "cell_type": "markdown",
      "source": [
        "*   В качестве встроенного теста воспользуемся *критерием Колмогорова-Смирнова*\n",
        "\n",
        "   *   Значение статистики вычисляется как максимум модуля разности между эмпирической и теоретической функциями распределения\n",
        "   $$D_n = \\sup_{x\\in \\mathbb{R}} |F_n(x) - F(x)|,$$\n",
        "   где $F_n(x)-$ эмпирическая функция распределения, $F(x)-$ теоретическая функция распределения."
      ],
      "metadata": {
        "id": "22v7ihosY53z"
      }
    },
    {
      "cell_type": "code",
      "source": [
        "stat_count_2, p_value_2 = sps.kstest(house_data['price'], 'expon', args=(0, 1 / lambda_1))\n",
        "\n",
        "print('\\u001b[34;1m Значение статистики:\\u001b[36;1m',stat_count_2, '\\u001b[0m')\n",
        "print('\\u001b[34;1m Значение p_value:\\u001b[36;1m', p_value_2, '\\u001b[0m')\n"
      ],
      "metadata": {
        "colab": {
          "base_uri": "https://localhost:8080/"
        },
        "id": "ILqrgQK6a5FU",
        "outputId": "5b84d1e4-ca49-4032-b885-12f8cbe3bcc3"
      },
      "execution_count": null,
      "outputs": [
        {
          "output_type": "stream",
          "name": "stdout",
          "text": [
            "\u001b[34;1m Значение статистики:\u001b[36;1m 0.2754295545329108 \u001b[0m\n",
            "\u001b[34;1m Значение p_value:\u001b[36;1m 0.0 \u001b[0m\n"
          ]
        }
      ]
    },
    {
      "cell_type": "markdown",
      "source": [
        "*   Так как значение уровня значимости превосходит *p_value* для критерия Колмогорова-Смирнова, то нулевая гипотеза не подтверждается."
      ],
      "metadata": {
        "id": "GNfdrmc8cUDu"
      }
    },
    {
      "cell_type": "markdown",
      "source": [
        "#### Вывод\n",
        "Выдвинутая гипотеза о том, что распределение цены имеет экспоненциальное распределение, была **опровергнута** и при проверке с помощью критерия согласия Пирсона, и при использование теста Колмогорова-Смирнова."
      ],
      "metadata": {
        "id": "4TjQ1Toedbb1"
      }
    },
    {
      "cell_type": "markdown",
      "source": [
        "### **2. Верно ли, что цена на старый и новый фонд распределена одинаково (порог возраста выбрать самостоятельно)**"
      ],
      "metadata": {
        "id": "QjZcWi8i0dei"
      }
    },
    {
      "cell_type": "markdown",
      "source": [
        "#### Собственный статистический тест"
      ],
      "metadata": {
        "id": "FEXfVpGdoxtw"
      }
    },
    {
      "cell_type": "markdown",
      "source": [
        "*   В качестве порога возраста выберем здания, которым не больше 40 лет, то есть **пороговое значение 1984**"
      ],
      "metadata": {
        "id": "lPUbNk8HeL3C"
      }
    },
    {
      "cell_type": "code",
      "source": [
        "old_h = house_data[(house_data['yr_built'] < 1984)]\n",
        "new_h = house_data[(house_data['yr_built'] >= 1984)]\n",
        "\n",
        "n_old = len(old_h)\n",
        "n_new = len(new_h)\n",
        "\n",
        "print('\\u001b[34;1m Число домов постройки до 1984:\\u001b[36;1m',n_old, '\\u001b[0m')\n",
        "print('\\u001b[34;1m Число домов постройки с 1984:\\u001b[36;1m', n_new, '\\u001b[0m')"
      ],
      "metadata": {
        "colab": {
          "base_uri": "https://localhost:8080/"
        },
        "id": "kknt3vmje1Hh",
        "outputId": "6a570f95-b9c8-4e05-d30f-356ecf58971b"
      },
      "execution_count": null,
      "outputs": [
        {
          "output_type": "stream",
          "name": "stdout",
          "text": [
            "\u001b[34;1m Число домов постройки до 1984:\u001b[36;1m 13090 \u001b[0m\n",
            "\u001b[34;1m Число домов постройки с 1984:\u001b[36;1m 8523 \u001b[0m\n"
          ]
        }
      ]
    },
    {
      "cell_type": "markdown",
      "source": [
        "*   Сформулируем следующие гипотезы:\n",
        "   *   Нулевая гипотеза $H_0$: распределение цены в выборках старого и нового фонда одинаково\n",
        "   *   Альтернативная гипотеза $H_1$: распределение цены в выборках старого и нового фонда отличается\n",
        "   \n",
        "*   Установим также значение **уровня значимости** $\\alpha = 5\\%$\n",
        "\n",
        "*   Для проверки гипотез будем использовать критерий Колмогорова-Смирнова.\n",
        "   *   Формула для нахождения значения статистики:\n",
        "   $$D_n = \\sup_{x \\in \\mathbb{R}} |F_n(x) - G_m(x)|,$$\n",
        "   где $F_n(x)$ и $G_m(x)$ эмпирические функции распределения для двух выборок."
      ],
      "metadata": {
        "id": "7Q8gULFEglpT"
      }
    },
    {
      "cell_type": "code",
      "source": [
        "old_h_pr = old_h['price']\n",
        "new_h_pr = new_h['price']\n",
        "D_n = 0\n",
        "alpha = 0.05\n",
        "\n",
        "emp_cdf = lambda x, data: np.sum(data <= x) / len(data)\n",
        "\n",
        "for x in house_data['price']:\n",
        "  D_n = max(D_n, abs(emp_cdf(x, old_h_pr) - emp_cdf(x, new_h_pr)))\n",
        "\n",
        "print('\\u001b[34;1m Значение статистики:\\u001b[36;1m',D_n, '\\u001b[0m')\n",
        "\n",
        "cr_num_2 = np.sqrt(-0.5 * np.log(alpha / 2)) * np.sqrt((n_old + n_new) / (n_old * n_new))\n",
        "\n",
        "print('\\u001b[34;1m Критическое значение:\\u001b[36;1m',cr_num_2, '\\u001b[0m')\n",
        "\n",
        "\n",
        "\n",
        "\n",
        "\n",
        "\n"
      ],
      "metadata": {
        "colab": {
          "base_uri": "https://localhost:8080/"
        },
        "id": "kafe4uLNi0XQ",
        "outputId": "68ccbb46-2db5-48c6-d0a2-66b93e69c67f"
      },
      "execution_count": null,
      "outputs": [
        {
          "output_type": "stream",
          "name": "stdout",
          "text": [
            "\u001b[34;1m Значение статистики:\u001b[36;1m 0.12518680634712687 \u001b[0m\n",
            "\u001b[34;1m Критическое значение:\u001b[36;1m 0.01890269352974444 \u001b[0m\n"
          ]
        }
      ]
    },
    {
      "cell_type": "markdown",
      "source": [
        "*   Значение статистики превосходит критическое значение, следовательно нулевая гипотеза отвергается и распределения цен на новый и старый фонды различны."
      ],
      "metadata": {
        "id": "3-8UVoWwoMJL"
      }
    },
    {
      "cell_type": "markdown",
      "source": [
        "#### Использование готовой реализации статистического теста"
      ],
      "metadata": {
        "id": "21MWF244o2_b"
      }
    },
    {
      "cell_type": "markdown",
      "source": [
        "*   В качестве готовой реализации возьмем тест *Манна-Уитни*"
      ],
      "metadata": {
        "id": "wbfT-G_-ogsO"
      }
    },
    {
      "cell_type": "code",
      "source": [
        "stat_num_3, p_val_3 = sps.mannwhitneyu(old_h_pr, new_h_pr)\n",
        "\n",
        "print('\\u001b[34;1m Значение статистики:\\u001b[36;1m',stat_num_3, '\\u001b[0m')\n",
        "print('\\u001b[34;1m Значение p_value:\\u001b[36;1m', p_val_3, '\\u001b[0m')\n"
      ],
      "metadata": {
        "colab": {
          "base_uri": "https://localhost:8080/"
        },
        "id": "uzCWeb0ro-fD",
        "outputId": "53039a58-ea9d-43a6-ff82-ce4fd3ca558d"
      },
      "execution_count": null,
      "outputs": [
        {
          "output_type": "stream",
          "name": "stdout",
          "text": [
            "\u001b[34;1m Значение статистики:\u001b[36;1m 45529012.5 \u001b[0m\n",
            "\u001b[34;1m Значение p_value:\u001b[36;1m 8.32139863994748e-116 \u001b[0m\n"
          ]
        }
      ]
    },
    {
      "cell_type": "markdown",
      "source": [
        "*   Так как p_value меньше уровня значимости, мы отвергаем нулевую гипотезу, следовательно, цены на дома нового и старого фонда распределены по-разному."
      ],
      "metadata": {
        "id": "W6LJeUTFppEp"
      }
    },
    {
      "cell_type": "markdown",
      "source": [
        "#### Вывод\n",
        "\n",
        "Нулевая гипотеза была **опровергнута**, следовательно, цены на дома старого и нового фонда распределены по-разному."
      ],
      "metadata": {
        "id": "PFXfNgeXqu_Y"
      }
    },
    {
      "cell_type": "markdown",
      "source": [
        "### **3. Верно ли, что при увеличении жилищной площади растет и цена?**"
      ],
      "metadata": {
        "id": "7aHVMvBa0se0"
      }
    },
    {
      "cell_type": "markdown",
      "source": [
        "#### Собственный статистический тест"
      ],
      "metadata": {
        "id": "n_J1t2Fuo7_K"
      }
    },
    {
      "cell_type": "markdown",
      "source": [
        "*   Сформулируем гипотезы:\n",
        "   *   Нулевая гипотеза $H_0$: при увеличении жилищной площади цена не растет $(r=0)$;\n",
        "\n",
        "   *   Альтернативная гипотеза: при увеличении жилищной площади растет и цена $(r>0)$\n",
        "\n",
        "*   Установим также значение **уровня значимости** $\\alpha = 5\\%$\n",
        "\n",
        "*   Воспользуемся коэффициентом корреляции Пирсона\n",
        "\n",
        "$$r = \\frac{\\overline{XY} - \\overline{X} \\overline{Y}}{ \\sqrt{\\overline{X^2} - \\overline{X}^2} \\cdot  \\sqrt{\\overline{Y^2} - \\overline{Y}^2}}$$\n",
        "\n",
        "   *   Статистика вычисляется как\n",
        "   $$t = \\frac{r \\sqrt{n-2}}{\\sqrt{1-r^2}}$$\n",
        "\n",
        "   *   Критическое значение $-$ квантиль распределения Стьюдента (число степеней свободы $n-2$)."
      ],
      "metadata": {
        "id": "uMg5iPJKrPat"
      }
    },
    {
      "cell_type": "code",
      "source": [
        "sqft_live = house_data['sqft_living']\n",
        "x_ = np.mean(sqft_live)\n",
        "price = house_data['price']\n",
        "y_ = np.mean(price)\n",
        "n = len(house_data)\n",
        "cov_coef = np.sum((sqft_live - x_) * (price - y_)) / (n - 1)\n",
        "\n",
        "r = cov_coef / (np.std(sqft_live, ddof = 1) * np.std(price, ddof = 1))\n",
        "stat_4 = r * np.sqrt(n - 2) / np.sqrt(1 - r ** 2)\n",
        "cr_val = sps.t.ppf(1 - alpha / 2, n - 2)\n",
        "\n",
        "\n",
        "print('\\u001b[34;1m Значение коэффициента корреляции Пирсона:\\u001b[36;1m', r, '\\u001b[0m')\n",
        "print('\\u001b[34;1m Значение статистики:\\u001b[36;1m',stat_4, '\\u001b[0m')\n",
        "print('\\u001b[34;1m Критическое значение:\\u001b[36;1m', cr_val, '\\u001b[0m')\n"
      ],
      "metadata": {
        "colab": {
          "base_uri": "https://localhost:8080/"
        },
        "id": "Yos_NK6Gu8Zf",
        "outputId": "c45b416a-60bb-40f7-93f8-b9000ff711c2"
      },
      "execution_count": null,
      "outputs": [
        {
          "output_type": "stream",
          "name": "stdout",
          "text": [
            "\u001b[34;1m Значение коэффициента корреляции Пирсона:\u001b[36;1m 0.7020350546118003 \u001b[0m\n",
            "\u001b[34;1m Значение статистики:\u001b[36;1m 144.920356198245 \u001b[0m\n",
            "\u001b[34;1m Критическое значение:\u001b[36;1m 1.96007376205338 \u001b[0m\n"
          ]
        }
      ]
    },
    {
      "cell_type": "markdown",
      "source": [
        "*   Так как значение статистики превосходит критическое значение, нулевая гипотеза отвергается, следовательно, цена при увеличении жилищной площади растет."
      ],
      "metadata": {
        "id": "kB5l7K3hy37Z"
      }
    },
    {
      "cell_type": "markdown",
      "source": [
        "#### Использование готовой реализации статистического теста"
      ],
      "metadata": {
        "id": "tr-Y5pS2o-Ag"
      }
    },
    {
      "cell_type": "markdown",
      "source": [
        "*   Сформулируем гипотезы:\n",
        "   *   Нулевая гипотеза $H_0$: при увеличении жилищной площади цена не растет $(r=0)$;\n",
        "   \n",
        "   *   Альтернативная гипотеза: при увеличении жилищной площади растет и цена $(r>0)$\n",
        "\n",
        "*   Установим также значение **уровня значимости** $\\alpha = 5\\%$\n",
        "\n",
        "*   Воспользуемся встроенным тестом Спирмана, коэффициент корреляции находится по следующей фурмуле:\n",
        "$$p = 1 - \\frac{6 \\sum d^2_t}{n(n^2-1)}$$"
      ],
      "metadata": {
        "id": "iwQe_epOzjj1"
      }
    },
    {
      "cell_type": "code",
      "source": [
        "p, p_val_sp = sps.spearmanr(price, sqft_live)\n",
        "\n",
        "print('\\u001b[34;1m Значение коэффициента корреляции Спирмана:\\u001b[36;1m', p, '\\u001b[0m')\n",
        "st_sp = p * np.sqrt(n - 2) / np.sqrt(1 - p ** 2)\n",
        "print('\\u001b[34;1m Значение статистики:\\u001b[36;1m',st_sp, '\\u001b[0m')\n",
        "print('\\u001b[34;1m Значение p_value:\\u001b[36;1m', p_val_sp, '\\u001b[0m')\n",
        "cr_sp = sps.t.ppf(1 - alpha / 2, n - 2)\n",
        "print('\\u001b[34;1m Критическое значение:\\u001b[36;1m', cr_val, '\\u001b[0m')\n"
      ],
      "metadata": {
        "colab": {
          "base_uri": "https://localhost:8080/"
        },
        "id": "ca9ZCs670J3m",
        "outputId": "ab484722-2a2e-4d3f-c143-f4ba4fd546be"
      },
      "execution_count": null,
      "outputs": [
        {
          "output_type": "stream",
          "name": "stdout",
          "text": [
            "\u001b[34;1m Значение коэффициента корреляции Спирмана:\u001b[36;1m 0.6441909821578403 \u001b[0m\n",
            "\u001b[34;1m Значение статистики:\u001b[36;1m 123.81334766821615 \u001b[0m\n",
            "\u001b[34;1m Значение p_value:\u001b[36;1m 0.0 \u001b[0m\n",
            "\u001b[34;1m Критическое значение:\u001b[36;1m 1.96007376205338 \u001b[0m\n"
          ]
        }
      ]
    },
    {
      "cell_type": "markdown",
      "source": [
        "*   Так как значение уровня значимости превосходит значение p_value, нулевая гипотеза отвергается и, следовательно, с увеличением площади дома растет и цена на него."
      ],
      "metadata": {
        "id": "lGP1byme10jl"
      }
    },
    {
      "cell_type": "markdown",
      "source": [
        "#### *Вывод*\n",
        "\n",
        "С увеличением площади дома растет и цена на него."
      ],
      "metadata": {
        "id": "hs7S-o722Hzp"
      }
    }
  ]
}