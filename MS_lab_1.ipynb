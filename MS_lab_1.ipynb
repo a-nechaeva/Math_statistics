{
  "nbformat": 4,
  "nbformat_minor": 0,
  "metadata": {
    "colab": {
      "provenance": []
    },
    "kernelspec": {
      "name": "python3",
      "display_name": "Python 3"
    },
    "language_info": {
      "name": "python"
    }
  },
  "cells": [
    {
      "cell_type": "markdown",
      "source": [
        "# ✨***Лабораторная работа №1***✨\n",
        "\n",
        "**по дисциплине Математическая статистика**\n",
        "\n",
        "**вариант** ***13***\n",
        "***\n",
        " ***Нечаева Анна, R3338***\n",
        "***"
      ],
      "metadata": {
        "id": "u2jONtat1-ud"
      }
    },
    {
      "cell_type": "markdown",
      "source": [
        "# ✨***Задание 1***\n",
        "***"
      ],
      "metadata": {
        "id": "yPa0bSmX2e15"
      }
    },
    {
      "cell_type": "markdown",
      "source": [
        "\n",
        "\n",
        "*   указать максимальный и минимальный элементы выборки, найти\n",
        "размах выборки\n",
        "***\n",
        "Отсортируем выборку по возрастастанию и выведем первый, последний элемент и модуль их разности, это и будет минимальный, максимальный элементы и размах выборки соответственно.\n",
        "\n",
        "\n",
        "\n"
      ],
      "metadata": {
        "id": "zH9BLgC03j1M"
      }
    },
    {
      "cell_type": "code",
      "execution_count": 27,
      "metadata": {
        "id": "m-aGDRtE12_O",
        "colab": {
          "base_uri": "https://localhost:8080/"
        },
        "outputId": "acdb5edc-6446-408e-849a-a179d8462e09"
      },
      "outputs": [
        {
          "output_type": "stream",
          "name": "stdout",
          "text": [
            "\u001b[36;1m Минимальный элемент выборки: \u001b[34;1m 0 \u001b[0m \n",
            "\n",
            "\u001b[36;1m Максимальный элемент выборки: \u001b[34;1m 4 \u001b[0m \n",
            "\n",
            "\u001b[36;1m Размах выборки: \u001b[34;1m 4 \u001b[0m \n",
            "\n"
          ]
        }
      ],
      "source": [
        "import numpy as np\n",
        "import statistics\n",
        "from math import factorial, floor, ceil\n",
        "from matplotlib import pyplot as plt\n",
        "\n",
        "# открытие файла с выборкой А для чтения\n",
        "with open('/content/drive/MyDrive/MS_lab_1/ms_lab1_A.txt', 'r') as f_a:\n",
        "  # запись всех целочисленных элементов в массив\n",
        "  ar = [int(i) for i in f_a.read().split()]\n",
        "  # сортировка массива по возрастанию\n",
        "  sort_ar = sorted(ar)\n",
        "  # вывод минимального элемента выборки\n",
        "  print('\\u001b[36;1m Минимальный элемент выборки: \\u001b[34;1m', sort_ar[0], '\\u001b[0m \\n')\n",
        "  # вывод максимального элемента выборки\n",
        "  print('\\u001b[36;1m Максимальный элемент выборки: \\u001b[34;1m', sort_ar[-1], '\\u001b[0m \\n')\n",
        "  # вывод размаха выборки\n",
        "  print('\\u001b[36;1m Размах выборки: \\u001b[34;1m', sort_ar[-1] - sort_ar[0], '\\u001b[0m \\n')\n",
        "\n"
      ]
    },
    {
      "cell_type": "markdown",
      "source": [
        "***\n",
        "*   построить статистический ряд и начертить полигон ряда\n",
        "***\n",
        "Выведем каждый элемент и частоту, с которой он встретился. Затем на основе полученных данных построим полигон ряда.\n"
      ],
      "metadata": {
        "id": "eRuhMXMK-TY-"
      }
    },
    {
      "cell_type": "code",
      "source": [
        "  # подсчитываем частоту каждого значения\n",
        "  st = sort_ar[0]  # текущее подсчитываемое значение\n",
        "  cur_sum = 0  # количество элементов текущего значения\n",
        "  x_a = []  # данные для построение полигона, ось x\n",
        "  y_a = []  # данные для построение полигона, ось y\n",
        "\n",
        "  print('\\u001b[36;1mЗначение \\u001b[34;1m | Частота\\u001b[0m \\n')\n",
        "\n",
        "  for i in range(len(sort_ar)):\n",
        "    if sort_ar[i] == st:\n",
        "      cur_sum = cur_sum + 1\n",
        "    else:\n",
        "      print('\\u001b[36;1m      ', st, '\\u001b[34;1m | ', cur_sum, '\\u001b[0m \\n')\n",
        "      x_a.append(st)\n",
        "      y_a.append(cur_sum)\n",
        "      cur_sum = 1\n",
        "      st = sort_ar[i]\n",
        "\n",
        "      if i == len(sort_ar) - 1:\n",
        "        print('\\u001b[36;1m      ', st, '\\u001b[34;1m | ', cur_sum, '\\u001b[0m \\n')\n",
        "        x_a.append(st)\n",
        "        y_a.append(cur_sum)\n",
        "\n",
        "  # построение полигона ряда\n",
        "  plt.axis([-1,5,0,30])\n",
        "  plt.title('Полигон ряда')\n",
        "  plt.xlabel('Значение')\n",
        "  plt.ylabel('Частота')\n",
        "  plt.plot(x_a, y_a,'g',linewidth=2.0)\n",
        "  plt.grid(True)\n",
        "  plt.show()\n"
      ],
      "metadata": {
        "colab": {
          "base_uri": "https://localhost:8080/",
          "height": 700
        },
        "id": "KUSJ1zSL_9zh",
        "outputId": "9b7ee5c0-1bf4-4c8d-b2d4-2b301aec6e2f"
      },
      "execution_count": 94,
      "outputs": [
        {
          "output_type": "stream",
          "name": "stdout",
          "text": [
            "\u001b[36;1mЗначение \u001b[34;1m | Частота\u001b[0m \n",
            "\n",
            "\u001b[36;1m       0 \u001b[34;1m |  21 \u001b[0m \n",
            "\n",
            "\u001b[36;1m       1 \u001b[34;1m |  29 \u001b[0m \n",
            "\n",
            "\u001b[36;1m       2 \u001b[34;1m |  13 \u001b[0m \n",
            "\n",
            "\u001b[36;1m       3 \u001b[34;1m |  7 \u001b[0m \n",
            "\n",
            "\u001b[36;1m       4 \u001b[34;1m |  1 \u001b[0m \n",
            "\n"
          ]
        },
        {
          "output_type": "display_data",
          "data": {
            "text/plain": [
              "<Figure size 640x480 with 1 Axes>"
            ],
            "image/png": "[encoded data removed]"
          },
          "metadata": {}
        }
      ]
    },
    {
      "cell_type": "markdown",
      "source": [
        "***\n",
        "*   записать эмпирическую функцию распределения и построить ее график\n",
        "***\n",
        "Построим эмпирическую функцию распределения:\n",
        "$$F^*(x)=\\frac{n_x}{n},$$\n",
        "где $n_x$ -- количество вариантов строго меньших, чем $x$.\n",
        "\n",
        "На промежутке $x \\in (-\\infty, 0]$ $F^*(x)= 0$.\n",
        "\n",
        "$x \\in (0, 1]$ $F^*(x)= \\frac{n_1}{n} = \\frac{21}{71}$\n",
        "\n",
        "$x \\in (1, 2]$ $F^*(x)= \\frac{n_1 + n_2}{n} = \\frac{21 + 29}{71}= \\frac{50}{71}$\n",
        "\n",
        "$x \\in (2, 3]$ $F^*(x)= \\frac{n_1 + n_2 + n_3}{n} = \\frac{21 + 29 + 13}{71}= \\frac{63}{71}$\n",
        "\n",
        "$x \\in (3, 4]$ $F^*(x)= \\frac{n_1 + n_2+ n_3 + n_4}{n} = \\frac{21 + 29 + 13 + 7}{71}= \\frac{70}{71}$\n",
        "\n",
        "$x \\in (4, +\\infty)$ $F^*(x)= \\frac{n_1 + n_2+ n_3 + n_4+ n_5}{n} = \\frac{21 + 29 + 13 + 7 + 1}{71}= \\frac{71}{71} = 1$\n",
        "\n",
        "В итоге, можно записать:\n",
        "\n",
        "$$F^*(x)=\n",
        "\\begin{cases}\n",
        "0, & x \\in (-\\infty, 0],\\\\\\\\\n",
        "\\frac{21}{71}, & x \\in (0, 1],\\\\\\\\\n",
        "\\frac{50}{71}, & x \\in (1, 2],\\\\\\\\\n",
        "\\frac{63}{71}, & x \\in (2, 3],\\\\\\\\\n",
        "\\frac{70}{71}, & x \\in (3, 4],\\\\\\\\\n",
        "1, & x \\in (4, +\\infty)\n",
        "\\end{cases}$$"
      ],
      "metadata": {
        "id": "4Aa2gU8X-qED"
      }
    },
    {
      "cell_type": "code",
      "source": [
        "  frec_a = []\n",
        "  fr_st = 0\n",
        "  n_a = len(sort_ar)\n",
        "\n",
        "  # нахождение значений для построения эмпирической функции распределения\n",
        "  for i in range(len(y_a)):\n",
        "    fr_st += y_a[i]\n",
        "    frec_a.append(fr_st)\n",
        "\n",
        "  # построение графика эмпирической функции распределения\n",
        "  x_em_a = np.linspace(-7, 7, 1000000)\n",
        "  delt_a = 0.00001\n",
        "  x_em_a[(x_em_a > 0 - delt_a) & (x_em_a < 0 + 2 * delt_a) |\n",
        "         (x_em_a > 1 - delt_a) & (x_em_a < 1 + 2 * delt_a) |\n",
        "         (x_em_a > 2 - delt_a) & (x_em_a < 2 + 2 * delt_a)|\n",
        "         (x_em_a > 3 - delt_a) & (x_em_a < 3 + 2 * delt_a)|\n",
        "         (x_em_a > 4 - delt_a) & (x_em_a < 4 + 2 * delt_a)] = np.nan\n",
        "\n",
        "  def f_a(x):\n",
        "    if x <= 0: return 0\n",
        "    elif 0 < x <= 1: return frec_a[0]\n",
        "    elif 1 < x <= 2: return frec_a[1]\n",
        "    elif 2 < x <= 3: return frec_a[2]\n",
        "    elif 3 < x <= 4: return frec_a[3]\n",
        "    else: return frec_a[4]\n",
        "\n",
        "  f_a_v = np.vectorize(f_a)\n",
        "\n",
        "  plt.axis([-1,5,0,1.25])\n",
        "  plt.title('Эмпирическая функция распределения')\n",
        "  plt.xlabel('x')\n",
        "  plt.ylabel(r'$F^*(x)$')\n",
        "  plt.plot(x_em_a, f_a_v(x_em_a) / n_a, 'g')\n",
        "  plt.grid(True)\n",
        "  plt.show()\n",
        "\n",
        "\n",
        "\n"
      ],
      "metadata": {
        "colab": {
          "base_uri": "https://localhost:8080/",
          "height": 527
        },
        "id": "fJnLoYNBour8",
        "outputId": "1dd46764-c9a8-4186-bf03-5bca7e9448b1"
      },
      "execution_count": 95,
      "outputs": [
        {
          "output_type": "stream",
          "name": "stderr",
          "text": [
            "/usr/local/lib/python3.10/dist-packages/numpy/lib/function_base.py:2455: RuntimeWarning: invalid value encountered in f_a (vectorized)\n",
            "  outputs = ufunc(*inputs)\n"
          ]
        },
        {
          "output_type": "display_data",
          "data": {
            "text/plain": [
              "<Figure size 640x480 with 1 Axes>"
            ],
            "image/png": "[encoded data removed]"
          },
          "metadata": {}
        }
      ]
    },
    {
      "cell_type": "markdown",
      "source": [
        "***\n",
        "*   вычислить начальные и центральные эмпирические моменты до 4-го порядка\n",
        "***\n",
        "Запишем формулу для вычисления начального эмпирического момента $k$-го порядка:\n",
        "$$\\nu_k = \\frac{\\sum \\limits_1^5 x_i^k \\cdot n_i}{n},$$\n",
        "где $x_i -$значение из статистического ряда, $n_i-$ частота, с которой встречается соответствующее значение, $n -$ количество элементов в выборке.\n",
        "\n",
        "Формула для вычисления центрального эмпирического момента $k$-го порядка:\n",
        "$$\\mu_k = \\frac{\\sum \\limits_1^5 \\left( x_i - \\nu_1 \\right)^k \\cdot n_i}{n},$$\n",
        "где $x_i -$значение из статистического ряда, $\\nu_1 -$ начальный эмпирический момент первого порядка, $n_i-$ частота, с которой встречается соответствующее значение, $n -$ количество элементов в выборке.\n"
      ],
      "metadata": {
        "id": "jXktXQyn-4rL"
      }
    },
    {
      "cell_type": "code",
      "source": [
        "  # нахождение начальных эмпирических моментов\n",
        "  M = [0, 0, 0, 0, 0]\n",
        "  for t in range(5):\n",
        "    for i in range(len(x_a)):\n",
        "      M[t] = M[t] + pow(x_a[i], t) * y_a[i]\n",
        "    M[t] = M[t] / n_a\n",
        "\n",
        "  # нахождение центральных эмпирических моментов\n",
        "  M_c = [0, 0, 0, 0, 0]\n",
        "  for t in range(5):\n",
        "    for i in range(len(x_a)):\n",
        "      M_c[t] = M_c[t] + pow(x_a[i] - M[1], t) * y_a[i]\n",
        "    M_c[t] = M_c[t] / n_a\n",
        "\n",
        "  for i in range(len(M)):\n",
        "    print('\\u001b[36;1mНачальный эмпирический момент порядка ', i, ':\\u001b[34;1m  ', round(M[i], 3), '\\u001b[0m \\n')\n",
        "\n",
        "  print('\\u001b[36;1m-----------------------------------------------------------------------\\u001b[0m \\n')\n",
        "\n",
        "  for i in range(len(M_c)):\n",
        "    print('\\u001b[36;1mЦентральный эмпирический момент порядка ', i, ':\\u001b[34;1m  ', round(M_c[i], 3), '\\u001b[0m \\n')\n",
        "\n",
        "  M_c_alternative = [0, 0, 0, 0, 0]\n",
        "  for t in range(5):\n",
        "    for i in range(t + 1):\n",
        "      M_c_alternative[t] = M_c_alternative[t] + (-1) ** i * M[1] ** i * M[t - i] * (factorial(t) / (factorial(i) * factorial(t - i)))\n",
        "\n",
        "  print(M_c_alternative)\n",
        "\n",
        "  print('\\u001b[33;1mДисперсия должна быть ', statistics.variance(ar), '\\u001b[0m \\n')"
      ],
      "metadata": {
        "colab": {
          "base_uri": "https://localhost:8080/"
        },
        "id": "9OBUgV7OBTDV",
        "outputId": "13693f48-6114-473d-83aa-f019034a382d"
      },
      "execution_count": 30,
      "outputs": [
        {
          "output_type": "stream",
          "name": "stdout",
          "text": [
            "\u001b[36;1mНачальный эмпирический момент порядка  0 :\u001b[34;1m   1.0 \u001b[0m \n",
            "\n",
            "\u001b[36;1mНачальный эмпирический момент порядка  1 :\u001b[34;1m   1.127 \u001b[0m \n",
            "\n",
            "\u001b[36;1mНачальный эмпирический момент порядка  2 :\u001b[34;1m   2.254 \u001b[0m \n",
            "\n",
            "\u001b[36;1mНачальный эмпирический момент порядка  3 :\u001b[34;1m   5.437 \u001b[0m \n",
            "\n",
            "\u001b[36;1mНачальный эмпирический момент порядка  4 :\u001b[34;1m   14.93 \u001b[0m \n",
            "\n",
            "\u001b[36;1m-----------------------------------------------------------------------\u001b[0m \n",
            "\n",
            "\u001b[36;1mЦентральный эмпирический момент порядка  0 :\u001b[34;1m   1.0 \u001b[0m \n",
            "\n",
            "\u001b[36;1mЦентральный эмпирический момент порядка  1 :\u001b[34;1m   -0.0 \u001b[0m \n",
            "\n",
            "\u001b[36;1mЦентральный эмпирический момент порядка  2 :\u001b[34;1m   0.984 \u001b[0m \n",
            "\n",
            "\u001b[36;1mЦентральный эмпирический момент порядка  3 :\u001b[34;1m   0.68 \u001b[0m \n",
            "\n",
            "\u001b[36;1mЦентральный эмпирический момент порядка  4 :\u001b[34;1m   2.757 \u001b[0m \n",
            "\n",
            "[1.0, 0.0, 0.9839317595715136, 0.6801299764466582, 2.7572099618281865]\n",
            "\u001b[33;1mДисперсия должна быть  0.9979879275653923 \u001b[0m \n",
            "\n"
          ]
        }
      ]
    },
    {
      "cell_type": "markdown",
      "source": [
        "***\n",
        "*   найти моду, медиану, коэффициенты асимметрии и эксцесса\n",
        "***\n",
        "**Мода**:\n",
        "одно или несколько значений во множестве наблюдений, которое встречается наиболее часто.\n",
        "\n",
        "**Медиана** : это число, сумма расстояний (или, если более строго, модулей) от которого до всех чисел из набора минимальна. Для выборки нечетного размера соответствует числу в центре отсортированного массива, для четного $-$ среднему арифметическому центральных элментов отсортированной выборки.\n",
        "\n",
        "\n",
        "**Коэффициент асимметрии** :\n",
        "$$As = \\frac{\\mu_{3}}{\\sigma^3} = \\frac{\\mu_{3}}{{\\mu_2}^{3/2}},$$\n",
        "где $\\mu_{3}-$центральный эмпирический момент 3-го порядка, $\\sigma-$среднее квадратичное отклонение, $\\mu_2-$центральный эмпирический момент второго порядка.\n",
        "\n",
        "*Для выбоки А коэффициент асимметрии положителен (см. результаты вычислений ниже), следовательно, правый хвост графика распределения должен быть длинее левого.*\n",
        "\n",
        "**Коэффициент эксцесса** :\n",
        "$$E = \\frac{\\mu_{4}}{\\sigma^4} - 3 = \\frac{\\mu_{4}}{{\\mu_2}^2} - 3,$$\n",
        "где $\\mu_{4}-$центральный эмпирический момент 4-го порядка, $\\sigma-$среднее квадратичное отклонение, $\\mu_2-$центральный эмпирический момент второго порядка.\n",
        "\n",
        "*Для выборки А коэффициент эксцесса отрицателен, следовательно, пик около математического ожидания более гладкий, чем у нормального распределения.*"
      ],
      "metadata": {
        "id": "P-VrLQA-_GpP"
      }
    },
    {
      "cell_type": "code",
      "source": [
        "  # нахождение моды\n",
        "  max_a_freq = 0\n",
        "  Mode_a = 0\n",
        "  count_modes = 0\n",
        "\n",
        "  for i in range(len(y_a)):\n",
        "    max_a_freq = max(max_a_freq, y_a[i])\n",
        "\n",
        "  for i in range(len(y_a)):\n",
        "    if max_a_freq == y_a[i]:\n",
        "      Mode_a += x_a[i]\n",
        "      count_modes += 1\n",
        "\n",
        "  Mode_a /= count_modes\n",
        "\n",
        "  # нахождение медианы\n",
        "  Med_a = sort_ar[n_a // 2]\n",
        "  # нахождение коэффициента асимметрии\n",
        "  As_a = M_c[3] / (M_c[2] ** (3 / 2))\n",
        "\n",
        "  # нахождение коэффициента эксцесса\n",
        "  E_a = M_c[4] / (M_c[2] ** 2) - 3\n",
        "\n",
        "  print('\\u001b[36;1mМода: \\u001b[34;1m', Mode_a, '\\u001b[0m \\n')\n",
        "  print('\\u001b[36;1mМедиана: \\u001b[34;1m', Med_a, '\\u001b[0m \\n')\n",
        "  print('\\u001b[36;1mКоэффициент асимметрии: \\u001b[34;1m', round(As_a, 3), '\\u001b[0m \\n')\n",
        "  print('\\u001b[36;1mКоэффициент эксцесса: \\u001b[34;1m', round(E_a, 3), '\\u001b[0m \\n')\n",
        "  print('\\u001b[33;1mЭксцесс должен быть ', -0.0737, '\\u001b[0m \\n')\n",
        "\n",
        ""
      ],
      "metadata": {
        "colab": {
          "base_uri": "https://localhost:8080/"
        },
        "id": "SSp7AK-VOR5U",
        "outputId": "381796b1-1bdb-4736-ad15-bb9a44de6db4"
      },
      "execution_count": 63,
      "outputs": [
        {
          "output_type": "stream",
          "name": "stdout",
          "text": [
            "\u001b[36;1mМода: \u001b[34;1m 1.0 \u001b[0m \n",
            "\n",
            "\u001b[36;1mМедиана: \u001b[34;1m 1 \u001b[0m \n",
            "\n",
            "\u001b[36;1mКоэффициент асимметрии: \u001b[34;1m 0.697 \u001b[0m \n",
            "\n",
            "\u001b[36;1mКоэффициент эксцесса: \u001b[34;1m -0.152 \u001b[0m \n",
            "\n",
            "\u001b[33;1mЭксцесс должен быть  -0.0737 \u001b[0m \n",
            "\n"
          ]
        }
      ]
    },
    {
      "cell_type": "markdown",
      "source": [
        "***\n",
        "*   сделать выводы и сформулировать гипотезы о распределении генеральной совокупности, из которой извлечена выборка, оценить параметры этого распределения\n",
        "***\n",
        "От"
      ],
      "metadata": {
        "id": "imnML8RW_Vl4"
      }
    },
    {
      "cell_type": "markdown",
      "source": [
        "# ✨***Задание 2***\n",
        "***"
      ],
      "metadata": {
        "id": "y7yfLmfL3gXq"
      }
    },
    {
      "cell_type": "markdown",
      "source": [
        "*   указать максимальный и минимальный элементы выборки, найти размах выборки\n",
        "***\n",
        "Отсортируем выборку по возрастастанию и выведем первый, последний элемент и модуль их разности, это и будет минимальный, максимальный элементы и размах выборки соответственно."
      ],
      "metadata": {
        "id": "nrfC_moZ3qys"
      }
    },
    {
      "cell_type": "code",
      "source": [
        "# открытие файла с выборкой B для чтения\n",
        "with open('/content/drive/MyDrive/MS_lab_1/ms_lab1_B.txt', 'r') as f_b:\n",
        "  # запись всех целочисленных элементов в массив\n",
        "  br = [int(i) for i in f_b.read().split()]\n",
        "  # сортировка массива по возрастанию\n",
        "  sort_br = sorted(br)\n",
        "  # вывод минимального элемента выборки\n",
        "  print('\\u001b[36;1m Минимальный элемент выборки: \\u001b[34;1m', sort_br[0], '\\u001b[0m \\n')\n",
        "  # вывод максимального элемента выборки\n",
        "  print('\\u001b[36;1m Максимальный элемент выборки: \\u001b[34;1m', sort_br[-1], '\\u001b[0m \\n')\n",
        "  # вывод размаха выборки\n",
        "  print('\\u001b[36;1m Размах выборки: \\u001b[34;1m', sort_br[-1] - sort_br[0], '\\u001b[0m \\n')"
      ],
      "metadata": {
        "colab": {
          "base_uri": "https://localhost:8080/"
        },
        "id": "YFOfWh6u4YBx",
        "outputId": "6fbda23a-e605-4f57-e1ba-0bf32d98d43c"
      },
      "execution_count": 32,
      "outputs": [
        {
          "output_type": "stream",
          "name": "stdout",
          "text": [
            "\u001b[36;1m Минимальный элемент выборки: \u001b[34;1m -91 \u001b[0m \n",
            "\n",
            "\u001b[36;1m Максимальный элемент выборки: \u001b[34;1m -21 \u001b[0m \n",
            "\n",
            "\u001b[36;1m Размах выборки: \u001b[34;1m 70 \u001b[0m \n",
            "\n"
          ]
        }
      ]
    },
    {
      "cell_type": "markdown",
      "source": [
        "***\n",
        "*   определить оптимальное количество интервалов группировки и длину интервала группировки\n",
        "***\n",
        "\n",
        "Для определения оптимального числа интервалов $n$ воспользуемся **правилом Стёрджеса**:\n",
        "$$n = 1 + \\lfloor \\log_2 N\\rfloor,$$\n",
        "где $N-$размер выборки."
      ],
      "metadata": {
        "id": "NoW4Igw64sH3"
      }
    },
    {
      "cell_type": "code",
      "source": [
        "  # количество элементов в выборке\n",
        "  N = len(br)\n",
        "  # определение оптимального числа интервалов\n",
        "  n = 1 + floor(np.log2(N))\n",
        "  # длина интервала группировки\n",
        "  ln_b = ceil((sort_br[-1] - sort_br[0]) / n)\n",
        "\n",
        "  print('\\u001b[36;1mКоличество элементов в выборке: \\u001b[34;1m', N, '\\u001b[0m \\n')\n",
        "  print('\\u001b[36;1mЧисло интервалов: \\u001b[34;1m', n, '\\u001b[0m \\n')\n",
        "  print('\\u001b[36;1mДлина интервала группировки: \\u001b[34;1m', ln_b, '\\u001b[0m \\n')"
      ],
      "metadata": {
        "colab": {
          "base_uri": "https://localhost:8080/"
        },
        "id": "_w30vApErE2D",
        "outputId": "4efc48f0-e48f-47ac-9c6f-7c11da0d689b"
      },
      "execution_count": 33,
      "outputs": [
        {
          "output_type": "stream",
          "name": "stdout",
          "text": [
            "\u001b[36;1mКоличество элементов в выборке: \u001b[34;1m 184 \u001b[0m \n",
            "\n",
            "\u001b[36;1mЧисло интервалов: \u001b[34;1m 8 \u001b[0m \n",
            "\n",
            "\u001b[36;1mДлина интервала группировки: \u001b[34;1m 9 \u001b[0m \n",
            "\n"
          ]
        }
      ]
    },
    {
      "cell_type": "markdown",
      "source": [
        "***\n",
        "*   построить интервальный ряд и гистограмму, а также полигон ряда\n",
        "***"
      ],
      "metadata": {
        "id": "RT-4XNif5Bxi"
      }
    },
    {
      "cell_type": "code",
      "source": [
        "  # создание пустого массива под данные для\n",
        "  # интервального ряда\n",
        "  groups_int = [[0] * 4 for i in range(n)]\n",
        "\n",
        "  # подсчет элементов в каждом из интервалов\n",
        "  cur_limit = 0\n",
        "  for i in range(n):\n",
        "    for j in range(cur_limit, N):\n",
        "      left_br, groups_int[i][0] = sort_br[0] + i * ln_b, sort_br[0] + i * ln_b\n",
        "      right_br, groups_int[i][1] = sort_br[0] + (i + 1) * ln_b, sort_br[0] + (i + 1) * ln_b\n",
        "      cent, groups_int[i][2] = (left_br + right_br) / 2, (left_br + right_br) / 2\n",
        "\n",
        "      if left_br <= sort_br[j] < right_br:\n",
        "        groups_int[i][3] += 1\n",
        "        cur_limit = j + 1\n",
        "      else:\n",
        "        break\n",
        "  # вывод данных интервального ряда\n",
        "  dat_spec = [0] * 9\n",
        "  res = 0\n",
        "  print('\\u001b[34;1m   Интервал   \\u001b[36;1m| Центр \\u001b[32;1m| Число элементов\\u001b[0m \\n')\n",
        "  for i in range(n):\n",
        "    print('\\u001b[34;1m[', groups_int[i][0], ',' , groups_int[i][1],\n",
        "          ') \\u001b[36;1m|', groups_int[i][2],'\\u001b[32;1m|   ',\n",
        "          groups_int[i][3], '\\u001b[0m \\n')\n",
        "    res += groups_int[i][3]\n",
        "    dat_spec[i] = groups_int[i][0]\n",
        "  print('\\u001b[32;1mКонтрольная сумма: \\u001b[34;1m', res, '\\u001b[0m \\n')\n",
        "  dat_spec[8] = groups_int[7][1]\n",
        "\n",
        "\n",
        "  # построение гистограммы\n",
        "  groups_int = np.array(groups_int)\n",
        "  plt.bar( groups_int[:, 2], groups_int[:, 3], width=9, linewidth=2, edgecolor='lightblue', color='dimgray')\n",
        "  plt.xlabel('Значение')\n",
        "  plt.ylabel('Число элементов')\n",
        "  plt.title('Гистограмма')\n",
        "  plt.legend()\n",
        "  plt.show()\n",
        "\n",
        "\n"
      ],
      "metadata": {
        "colab": {
          "base_uri": "https://localhost:8080/",
          "height": 857
        },
        "id": "EEz8rJmXxPCR",
        "outputId": "9c48aa1a-78d2-4f2e-e51b-2ede2be697f8"
      },
      "execution_count": 96,
      "outputs": [
        {
          "output_type": "stream",
          "name": "stderr",
          "text": [
            "WARNING:matplotlib.legend:No artists with labels found to put in legend.  Note that artists whose label start with an underscore are ignored when legend() is called with no argument.\n"
          ]
        },
        {
          "output_type": "stream",
          "name": "stdout",
          "text": [
            "\u001b[34;1m   Интервал   \u001b[36;1m| Центр \u001b[32;1m| Число элементов\u001b[0m \n",
            "\n",
            "\u001b[34;1m[ -91 , -82 ) \u001b[36;1m| -86.5 \u001b[32;1m|    6 \u001b[0m \n",
            "\n",
            "\u001b[34;1m[ -82 , -73 ) \u001b[36;1m| -77.5 \u001b[32;1m|    15 \u001b[0m \n",
            "\n",
            "\u001b[34;1m[ -73 , -64 ) \u001b[36;1m| -68.5 \u001b[32;1m|    41 \u001b[0m \n",
            "\n",
            "\u001b[34;1m[ -64 , -55 ) \u001b[36;1m| -59.5 \u001b[32;1m|    50 \u001b[0m \n",
            "\n",
            "\u001b[34;1m[ -55 , -46 ) \u001b[36;1m| -50.5 \u001b[32;1m|    37 \u001b[0m \n",
            "\n",
            "\u001b[34;1m[ -46 , -37 ) \u001b[36;1m| -41.5 \u001b[32;1m|    22 \u001b[0m \n",
            "\n",
            "\u001b[34;1m[ -37 , -28 ) \u001b[36;1m| -32.5 \u001b[32;1m|    10 \u001b[0m \n",
            "\n",
            "\u001b[34;1m[ -28 , -19 ) \u001b[36;1m| -23.5 \u001b[32;1m|    3 \u001b[0m \n",
            "\n",
            "\u001b[32;1mКонтрольная сумма: \u001b[34;1m 184 \u001b[0m \n",
            "\n"
          ]
        },
        {
          "output_type": "display_data",
          "data": {
            "text/plain": [
              "<Figure size 640x480 with 1 Axes>"
            ],
            "image/png": "[encoded data removed]"
          },
          "metadata": {}
        }
      ]
    },
    {
      "cell_type": "code",
      "source": [
        "  # построение полигона ряда\n",
        "  # подсчитываем частоту каждого значения\n",
        "  st_b = sort_br[0]  # текущее подсчитываемое значение\n",
        "  cur_sum = 0  # количество элементов текущего значения\n",
        "  x_b = []  # данные для построение полигона, ось x\n",
        "  y_b = []  # данные для построение полигона, ось y\n",
        "\n",
        "\n",
        "  for i in range(len(sort_br)):\n",
        "    if sort_br[i] == st_b:\n",
        "      cur_sum = cur_sum + 1\n",
        "    else:\n",
        "      x_b.append(st_b)\n",
        "      y_b.append(cur_sum)\n",
        "      cur_sum = 1\n",
        "      st_b = sort_br[i]\n",
        "\n",
        "      if i == len(sort_br) - 1:\n",
        "        x_b.append(st_b)\n",
        "        y_b.append(cur_sum)\n",
        "\n",
        "  # построение полигона ряда\n",
        "  plt.axis([-95,-20,0,13])\n",
        "  plt.title('Полигон ряда')\n",
        "  plt.xlabel('Значение')\n",
        "  plt.ylabel('Частота')\n",
        "  plt.plot(x_b, y_b,'g',linewidth=2.0)\n",
        "  plt.grid(True)\n",
        "  plt.show()"
      ],
      "metadata": {
        "colab": {
          "base_uri": "https://localhost:8080/",
          "height": 492
        },
        "id": "dSsfp4qiKpfe",
        "outputId": "f3d5107e-6943-429b-9b7a-b0ab4c589828"
      },
      "execution_count": 97,
      "outputs": [
        {
          "output_type": "display_data",
          "data": {
            "text/plain": [
              "<Figure size 640x480 with 1 Axes>"
            ],
            "image/png": "[encoded data removed]"
          },
          "metadata": {}
        }
      ]
    },
    {
      "cell_type": "markdown",
      "source": [
        "***\n",
        "*   записать эмпирическую функцию распределения и построить ее график, построить кумуляту\n",
        "***"
      ],
      "metadata": {
        "id": "_XxbS4jA5Oov"
      }
    },
    {
      "cell_type": "markdown",
      "source": [
        "***\n",
        "*   вычислить начальные и центральные эмпирические моменты до 4-го порядка\n",
        "***"
      ],
      "metadata": {
        "id": "NgGt_bp55fl_"
      }
    },
    {
      "cell_type": "markdown",
      "source": [
        "***\n",
        "*   найти моду (отметить на гистограмме), медиану (отметить на кумуляте), коэффициенты асимметрии и эксцесса\n",
        "***"
      ],
      "metadata": {
        "id": "U6_ZS02W5sTW"
      }
    },
    {
      "cell_type": "markdown",
      "source": [
        "***\n",
        "*   сделать выводы и сформулировать гипотезы о распределении генеральной совокупности, из которой извлечена выборка, оценить параметры этого распределения\n",
        "***"
      ],
      "metadata": {
        "id": "K5TMpZLI5_7Y"
      }
    }
  ]
}