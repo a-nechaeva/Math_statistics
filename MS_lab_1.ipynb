{
  "nbformat": 4,
  "nbformat_minor": 0,
  "metadata": {
    "colab": {
      "provenance": []
    },
    "kernelspec": {
      "name": "python3",
      "display_name": "Python 3"
    },
    "language_info": {
      "name": "python"
    }
  },
  "cells": [
    {
      "cell_type": "markdown",
      "source": [
        "# ✨***Лабораторная работа №1***✨\n",
        "\n",
        "**по дисциплине Математическая статистика**\n",
        "\n",
        "**вариант** ***13***\n",
        "***\n",
        " ***Нечаева Анна, R3338***\n",
        "***"
      ],
      "metadata": {
        "id": "u2jONtat1-ud"
      }
    },
    {
      "cell_type": "markdown",
      "source": [
        "# ✨***Задание 1***\n",
        "***"
      ],
      "metadata": {
        "id": "yPa0bSmX2e15"
      }
    },
    {
      "cell_type": "markdown",
      "source": [
        "\n",
        "\n",
        "*   указать максимальный и минимальный элементы выборки, найти\n",
        "размах выборки\n",
        "***\n",
        "Отсортируем выборку по возрастастанию и выведем первый, последний элемент и модуль их разности, это и будет минимальный, максимальный элементы и размах выборки соответственно.\n",
        "\n",
        "\n",
        "\n"
      ],
      "metadata": {
        "id": "zH9BLgC03j1M"
      }
    },
    {
      "cell_type": "code",
      "execution_count": 34,
      "metadata": {
        "id": "m-aGDRtE12_O",
        "colab": {
          "base_uri": "https://localhost:8080/"
        },
        "outputId": "622618a1-c62d-484f-cd8a-db1599b8d682"
      },
      "outputs": [
        {
          "output_type": "stream",
          "name": "stdout",
          "text": [
            "\u001b[36;1m Минимальный элемент выборки: \u001b[34;1m 0 \u001b[0m \n",
            "\n",
            "\u001b[36;1m Максимальный элемент выборки: \u001b[34;1m 4 \u001b[0m \n",
            "\n",
            "\u001b[36;1m Размах выборки: \u001b[34;1m 4 \u001b[0m \n",
            "\n"
          ]
        }
      ],
      "source": [
        "import numpy as np\n",
        "import statistics\n",
        "from math import factorial\n",
        "from matplotlib import pyplot as plt\n",
        "\n",
        "# открытие файла с выборкой А для чтения\n",
        "with open('/content/drive/MyDrive/MS_lab_1/ms_lab1_A.txt', 'r') as f_a:\n",
        "  # запись всех целочисленных элементов в массив\n",
        "  ar = [int(i) for i in f_a.read().split()]\n",
        "  # сортировка массива по возрастанию\n",
        "  sort_ar = sorted(ar)\n",
        "  # вывод минимального элемента выборки\n",
        "  print('\\u001b[36;1m Минимальный элемент выборки: \\u001b[34;1m', sort_ar[0], '\\u001b[0m \\n')\n",
        "  # вывод максимального элемента выборки\n",
        "  print('\\u001b[36;1m Максимальный элемент выборки: \\u001b[34;1m', sort_ar[-1], '\\u001b[0m \\n')\n",
        "  # вывод размаха выборки\n",
        "  print('\\u001b[36;1m Размах выборки: \\u001b[34;1m', sort_ar[-1] - sort_ar[0], '\\u001b[0m \\n')\n",
        "\n"
      ]
    },
    {
      "cell_type": "markdown",
      "source": [
        "***\n",
        "*   построить статистический ряд и начертить полигон ряда\n",
        "***\n",
        "Выведем каждый элемент и частоту, с которой он встретился. Затем на основе полученных данных построим полигон ряда.\n"
      ],
      "metadata": {
        "id": "eRuhMXMK-TY-"
      }
    },
    {
      "cell_type": "code",
      "source": [
        "  # подсчитываем частоту каждого значения\n",
        "  st = sort_ar[0]  # текущее подсчитываемое значение\n",
        "  cur_sum = 0  # количество элементов текущего значения\n",
        "  x_a = []  # данные для построение полигона, ось x\n",
        "  y_a = []  # данные для построение полигона, ось y\n",
        "\n",
        "  print('\\u001b[36;1mЗначение \\u001b[34;1m | Частота\\u001b[0m \\n')\n",
        "\n",
        "  for i in range(len(sort_ar)):\n",
        "    if sort_ar[i] == st:\n",
        "      cur_sum = cur_sum + 1\n",
        "    else:\n",
        "      print('\\u001b[36;1m      ', st, '\\u001b[34;1m | ', cur_sum, '\\u001b[0m \\n')\n",
        "      x_a.append(st)\n",
        "      y_a.append(cur_sum)\n",
        "      cur_sum = 1\n",
        "      st = sort_ar[i]\n",
        "\n",
        "      if i == len(sort_ar) - 1:\n",
        "        print('\\u001b[36;1m      ', st, '\\u001b[34;1m | ', cur_sum, '\\u001b[0m \\n')\n",
        "        x_a.append(st)\n",
        "        y_a.append(cur_sum)\n",
        "\n",
        "  # построение полигона ряда\n",
        "  plt.axis([-1,5,0,30])\n",
        "  plt.title('Полигон ряда')\n",
        "  plt.xlabel('Значение')\n",
        "  plt.ylabel('Частота')\n",
        "  plt.plot(x_a, y_a,'b',linewidth=2.0)\n",
        "  plt.grid(True)\n",
        "  plt.show()\n"
      ],
      "metadata": {
        "colab": {
          "base_uri": "https://localhost:8080/",
          "height": 700
        },
        "id": "KUSJ1zSL_9zh",
        "outputId": "029b8f78-3ed0-47f3-a552-1a101b7e8a18"
      },
      "execution_count": 35,
      "outputs": [
        {
          "output_type": "stream",
          "name": "stdout",
          "text": [
            "\u001b[36;1mЗначение \u001b[34;1m | Частота\u001b[0m \n",
            "\n",
            "\u001b[36;1m       0 \u001b[34;1m |  21 \u001b[0m \n",
            "\n",
            "\u001b[36;1m       1 \u001b[34;1m |  29 \u001b[0m \n",
            "\n",
            "\u001b[36;1m       2 \u001b[34;1m |  13 \u001b[0m \n",
            "\n",
            "\u001b[36;1m       3 \u001b[34;1m |  7 \u001b[0m \n",
            "\n",
            "\u001b[36;1m       4 \u001b[34;1m |  1 \u001b[0m \n",
            "\n"
          ]
        },
        {
          "output_type": "display_data",
          "data": {
            "text/plain": [
              "<Figure size 640x480 with 1 Axes>"
            ],
            "image/png": "[encoded data removed]"
          },
          "metadata": {}
        }
      ]
    },
    {
      "cell_type": "markdown",
      "source": [
        "***\n",
        "*   записать эмпирическую функцию распределения и построить ее график\n",
        "***\n",
        "Построим эмпирическую функцию распределения:\n",
        "$$F^*(x)=\\frac{n_x}{n},$$\n",
        "где $n_x$ -- количество вариантов строго меньших, чем $x$.\n",
        "\n",
        "На промежутке $x \\in (-\\infty, 0]$ $F^*(x)= 0$.\n",
        "\n",
        "$x \\in (0, 1]$ $F^*(x)= \\frac{n_1}{n} = \\frac{21}{71}$\n",
        "\n",
        "$x \\in (1, 2]$ $F^*(x)= \\frac{n_1 + n_2}{n} = \\frac{21 + 29}{71}= \\frac{50}{71}$\n",
        "\n",
        "$x \\in (2, 3]$ $F^*(x)= \\frac{n_1 + n_2 + n_3}{n} = \\frac{21 + 29 + 13}{71}= \\frac{63}{71}$\n",
        "\n",
        "$x \\in (3, 4]$ $F^*(x)= \\frac{n_1 + n_2+ n_3 + n_4}{n} = \\frac{21 + 29 + 13 + 7}{71}= \\frac{70}{71}$\n",
        "\n",
        "$x \\in (4, +\\infty)$ $F^*(x)= \\frac{n_1 + n_2+ n_3 + n_4+ n_5}{n} = \\frac{21 + 29 + 13 + 7 + 1}{71}= \\frac{71}{71} = 1$\n",
        "\n",
        "В итоге, можно записать:\n",
        "\n",
        "$$F^*(x)=\n",
        "\\begin{cases}\n",
        "0, & x \\in (-\\infty, 0],\\\\\\\\\n",
        "\\frac{21}{71}, & x \\in (0, 1],\\\\\\\\\n",
        "\\frac{50}{71}, & x \\in (1, 2],\\\\\\\\\n",
        "\\frac{63}{71}, & x \\in (2, 3],\\\\\\\\\n",
        "\\frac{70}{71}, & x \\in (3, 4],\\\\\\\\\n",
        "1, & x \\in (4, +\\infty)\n",
        "\\end{cases}$$"
      ],
      "metadata": {
        "id": "4Aa2gU8X-qED"
      }
    },
    {
      "cell_type": "code",
      "source": [
        "  frec_a = []\n",
        "  fr_st = 0\n",
        "  n_a = len(sort_ar)\n",
        "\n",
        "  # нахождение значений для построения эмпирической функции распределения\n",
        "  for i in range(len(y_a)):\n",
        "    fr_st += y_a[i]\n",
        "    frec_a.append(fr_st)\n",
        "\n",
        "  # построение графика эмпирической функции распределения\n",
        "  x_em_a = np.linspace(-7, 7, 1000000)\n",
        "  delt_a = 0.00001\n",
        "  x_em_a[(x_em_a > 0 - delt_a) & (x_em_a < 0 + 2 * delt_a) |\n",
        "         (x_em_a > 1 - delt_a) & (x_em_a < 1 + 2 * delt_a) |\n",
        "         (x_em_a > 2 - delt_a) & (x_em_a < 2 + 2 * delt_a)|\n",
        "         (x_em_a > 3 - delt_a) & (x_em_a < 3 + 2 * delt_a)|\n",
        "         (x_em_a > 4 - delt_a) & (x_em_a < 4 + 2 * delt_a)] = np.nan\n",
        "\n",
        "  def f_a(x):\n",
        "    if x <= 0: return 0\n",
        "    elif 0 < x <= 1: return frec_a[0]\n",
        "    elif 1 < x <= 2: return frec_a[1]\n",
        "    elif 2 < x <= 3: return frec_a[2]\n",
        "    elif 3 < x <= 4: return frec_a[3]\n",
        "    else: return frec_a[4]\n",
        "\n",
        "  f_a_v = np.vectorize(f_a)\n",
        "\n",
        "  plt.axis([-1,5,0,1.25])\n",
        "  plt.title('Эмпирическая функция распределения')\n",
        "  plt.xlabel('x')\n",
        "  plt.ylabel(r'$F^*(x)$')\n",
        "  plt.plot(x_em_a, f_a_v(x_em_a) / n_a, 'b')\n",
        "  plt.grid(True)\n",
        "  plt.show()\n",
        "\n",
        "\n",
        "\n"
      ],
      "metadata": {
        "colab": {
          "base_uri": "https://localhost:8080/",
          "height": 527
        },
        "id": "fJnLoYNBour8",
        "outputId": "44d56f40-506a-402c-91e6-3e022aa59e4c"
      },
      "execution_count": 36,
      "outputs": [
        {
          "output_type": "stream",
          "name": "stderr",
          "text": [
            "/usr/local/lib/python3.10/dist-packages/numpy/lib/function_base.py:2455: RuntimeWarning: invalid value encountered in f_a (vectorized)\n",
            "  outputs = ufunc(*inputs)\n"
          ]
        },
        {
          "output_type": "display_data",
          "data": {
            "text/plain": [
              "<Figure size 640x480 with 1 Axes>"
            ],
            "image/png": "[encoded data removed]"
          },
          "metadata": {}
        }
      ]
    },
    {
      "cell_type": "markdown",
      "source": [
        "***\n",
        "*   вычислить начальные и центральные эмпирические моменты до 4-го порядка\n",
        "***\n",
        "Запишем формулу для вычисления начального эмпирического момента $k$-го порядка:\n",
        "$$\\nu_k = \\frac{\\sum \\limits_1^5 x_i^k \\cdot n_i}{n},$$\n",
        "где $x_i -$значение из статистического ряда, $n_i-$ частота, с которой встречается соответствующее значение, $n -$ количество элементов в выборке.\n",
        "\n",
        "Формула для вычисления центрального эмпирического момента $k$-го порядка:\n",
        "$$\\mu_k = \\frac{\\sum \\limits_1^5 \\left( x_i - \\nu_1 \\right)^k \\cdot n_i}{n},$$\n",
        "где $x_i -$значение из статистического ряда, $\\nu_1 -$ начальный эмпирический момент первого порядка, $n_i-$ частота, с которой встречается соответствующее значение, $n -$ количество элементов в выборке.\n"
      ],
      "metadata": {
        "id": "jXktXQyn-4rL"
      }
    },
    {
      "cell_type": "code",
      "source": [
        "  # нахождение начальных эмпирических моментов\n",
        "  M = [0, 0, 0, 0, 0]\n",
        "  for t in range(5):\n",
        "    for i in range(len(x_a)):\n",
        "      M[t] = M[t] + pow(x_a[i], t) * y_a[i]\n",
        "    M[t] = M[t] / n_a\n",
        "\n",
        "  # нахождение центральных эмпирических моментов\n",
        "  M_c = [0, 0, 0, 0, 0]\n",
        "  for t in range(5):\n",
        "    for i in range(len(x_a)):\n",
        "      M_c[t] = M_c[t] + pow(x_a[i] - M[1], t) * y_a[i]\n",
        "    M_c[t] = M_c[t] / n_a\n",
        "\n",
        "  for i in range(len(M)):\n",
        "    print('\\u001b[36;1mНачальный эмпирический момент порядка ', i, ':\\u001b[34;1m  ', round(M[i], 3), '\\u001b[0m \\n')\n",
        "\n",
        "  print('\\u001b[36;1m-----------------------------------------------------------------------\\u001b[0m \\n')\n",
        "\n",
        "  for i in range(len(M_c)):\n",
        "    print('\\u001b[36;1mЦентральный эмпирический момент порядка ', i, ':\\u001b[34;1m  ', round(M_c[i], 3), '\\u001b[0m \\n')\n",
        "\n",
        "  M_c_alternative = [0, 0, 0, 0, 0]\n",
        "  for t in range(5):\n",
        "    for i in range(t + 1):\n",
        "      M_c_alternative[t] = M_c_alternative[t] + (-1) ** i * M[1] ** i * M[t - i] * (factorial(t) / (factorial(i) * factorial(t - i)))\n",
        "\n",
        "  print(M_c_alternative)\n",
        "\n",
        "  print('\\u001b[33;1mДисперсия должна быть ', statistics.variance(ar), '\\u001b[0m \\n')"
      ],
      "metadata": {
        "colab": {
          "base_uri": "https://localhost:8080/"
        },
        "id": "9OBUgV7OBTDV",
        "outputId": "38e8daca-a37d-4dc3-96f9-fbb8e613a8fc"
      },
      "execution_count": 45,
      "outputs": [
        {
          "output_type": "stream",
          "name": "stdout",
          "text": [
            "\u001b[36;1mНачальный эмпирический момент порядка  0 :\u001b[34;1m   1.0 \u001b[0m \n",
            "\n",
            "\u001b[36;1mНачальный эмпирический момент порядка  1 :\u001b[34;1m   1.127 \u001b[0m \n",
            "\n",
            "\u001b[36;1mНачальный эмпирический момент порядка  2 :\u001b[34;1m   2.254 \u001b[0m \n",
            "\n",
            "\u001b[36;1mНачальный эмпирический момент порядка  3 :\u001b[34;1m   5.437 \u001b[0m \n",
            "\n",
            "\u001b[36;1mНачальный эмпирический момент порядка  4 :\u001b[34;1m   14.93 \u001b[0m \n",
            "\n",
            "\u001b[36;1m-----------------------------------------------------------------------\u001b[0m \n",
            "\n",
            "\u001b[36;1mЦентральный эмпирический момент порядка  0 :\u001b[34;1m   1.0 \u001b[0m \n",
            "\n",
            "\u001b[36;1mЦентральный эмпирический момент порядка  1 :\u001b[34;1m   -0.0 \u001b[0m \n",
            "\n",
            "\u001b[36;1mЦентральный эмпирический момент порядка  2 :\u001b[34;1m   0.984 \u001b[0m \n",
            "\n",
            "\u001b[36;1mЦентральный эмпирический момент порядка  3 :\u001b[34;1m   0.68 \u001b[0m \n",
            "\n",
            "\u001b[36;1mЦентральный эмпирический момент порядка  4 :\u001b[34;1m   2.757 \u001b[0m \n",
            "\n",
            "[1.0, 0.0, 0.9839317595715136, 0.6801299764466582, 2.7572099618281865]\n",
            "\u001b[33;1mДисперсия должна быть  0.9979879275653923 \u001b[0m \n",
            "\n"
          ]
        }
      ]
    },
    {
      "cell_type": "markdown",
      "source": [
        "***\n",
        "*   найти моду, медиану, коэффициенты асимметрии и эксцесса\n",
        "***\n",
        "**Мода**:\n",
        "одно или несколько значений во множестве наблюдений, которое встречается наиболее часто.\n",
        "\n",
        "**Медиана** : это число, сумма расстояний (или, если более строго, модулей) от которого до всех чисел из набора минимальна. Для выборки нечетного размера соответствует числу в центре отсортированного массива, для четного $-$ среднему арифметическому центральных элментов отсортированной выборки.\n",
        "\n",
        "\n",
        "**Коэффициент асимметрии** :\n",
        "$$As = \\frac{\\mu_{3}}{\\sigma^3} = \\frac{\\mu_{3}}{{\\mu_2}^{3/2}},$$\n",
        "где $\\mu_{3}-$центральный эмпирический момент 3-го порядка, $\\sigma-$среднее квадратичное отклонение, $\\mu_2-$центральный эмпирический момент второго порядка.\n",
        "\n",
        "*Для выбоки А коэффициент асимметрии положителен (см. результаты вычислений ниже), следовательно, правый хвост графика распределения должен быть длинее левого.*\n",
        "\n",
        "**Коэффициент эксцесса** :\n",
        "$$E = \\frac{\\mu_{4}}{\\sigma^4} - 3 = \\frac{\\mu_{4}}{{\\mu_2}^2} - 3,$$\n",
        "где $\\mu_{4}-$центральный эмпирический момент 4-го порядка, $\\sigma-$среднее квадратичное отклонение, $\\mu_2-$центральный эмпирический момент второго порядка.\n",
        "\n",
        "*Для выборки А коэффициент эксцесса отрицателен, следовательно, пик около математического ожидания более гладкий, чем у нормального распределения.*"
      ],
      "metadata": {
        "id": "P-VrLQA-_GpP"
      }
    },
    {
      "cell_type": "code",
      "source": [
        "  #Mod, Median, A, E_a\n",
        "  # нахождение моды\n",
        "  max_a_freq = 0\n",
        "\n",
        "  for i in range(len(y_a)):\n",
        "    max_a_freq = max(max_a_freq, y_a[i])\n",
        "\n",
        "  for i in range(len(y_a)):\n",
        "    if max_a_freq == y_a[i]:\n",
        "      print('\\u001b[36;1mМода: \\u001b[34;1m', x_a[i], '\\u001b[0m \\n')\n",
        "\n",
        "  # нахождение медианы\n",
        "  Med_a = sort_ar[n_a // 2]\n",
        "  # нахождение коэффициента асимметрии\n",
        "  As_a = M_c[3] / (M_c[2] ** (3 / 2))\n",
        "\n",
        "  # нахождение коэффициента эксцесса\n",
        "  E_a = M_c[4] / (M_c[2] ** 2) - 3\n",
        "\n",
        "  print('\\u001b[36;1mМедиана: \\u001b[34;1m', Med_a, '\\u001b[0m \\n')\n",
        "  print('\\u001b[36;1mКоэффициент асимметрии: \\u001b[34;1m', round(As_a, 3), '\\u001b[0m \\n')\n",
        "  print('\\u001b[36;1mКоэффициент эксцесса: \\u001b[34;1m', round(E_a, 3), '\\u001b[0m \\n')\n",
        "  print('\\u001b[33;1mЭксцесс должен быть ', -0.0737, '\\u001b[0m \\n')\n",
        "\n",
        ""
      ],
      "metadata": {
        "colab": {
          "base_uri": "https://localhost:8080/"
        },
        "id": "SSp7AK-VOR5U",
        "outputId": "460d331c-c4c7-43b8-ec76-14006202fb3e"
      },
      "execution_count": 57,
      "outputs": [
        {
          "output_type": "stream",
          "name": "stdout",
          "text": [
            "\u001b[36;1mМода: \u001b[34;1m 1 \u001b[0m \n",
            "\n",
            "\u001b[36;1mМедиана: \u001b[34;1m 1 \u001b[0m \n",
            "\n",
            "\u001b[36;1mКоэффициент асимметрии: \u001b[34;1m 0.697 \u001b[0m \n",
            "\n",
            "\u001b[36;1mКоэффициент эксцесса: \u001b[34;1m -0.152 \u001b[0m \n",
            "\n",
            "\u001b[33;1mЭксцесс должен быть  -0.0737 \u001b[0m \n",
            "\n"
          ]
        }
      ]
    },
    {
      "cell_type": "markdown",
      "source": [
        "***\n",
        "*   сделать выводы и сформулировать гипотезы о распределении генеральной совокупности, из которой извлечена выборка, оценить параметры этого распределения\n",
        "***\n",
        "От"
      ],
      "metadata": {
        "id": "imnML8RW_Vl4"
      }
    },
    {
      "cell_type": "markdown",
      "source": [
        "# ✨***Задание 2***\n",
        "***"
      ],
      "metadata": {
        "id": "y7yfLmfL3gXq"
      }
    },
    {
      "cell_type": "markdown",
      "source": [
        "*   указать максимальный и минимальный элементы выборки, найти размах выборки\n",
        "***\n",
        "Отсортируем выборку по возрастастанию и выведем первый, последний элемент и модуль их разности, это и будет минимальный, максимальный элементы и размах выборки соответственно."
      ],
      "metadata": {
        "id": "nrfC_moZ3qys"
      }
    },
    {
      "cell_type": "code",
      "source": [
        "# открытие файла с выборкой B для чтения\n",
        "with open('/content/drive/MyDrive/MS_lab_1/ms_lab1_B.txt', 'r') as f_b:\n",
        "  # запись всех целочисленных элементов в массив\n",
        "  br = [int(i) for i in f_b.read().split()]\n",
        "  # сортировка массива по возрастанию\n",
        "  sort_br = sorted(br)\n",
        "  # вывод минимального элемента выборки\n",
        "  print('\\u001b[36;1m Минимальный элемент выборки: \\u001b[34;1m', sort_br[0], '\\u001b[0m \\n')\n",
        "  # вывод максимального элемента выборки\n",
        "  print('\\u001b[36;1m Максимальный элемент выборки: \\u001b[34;1m', sort_br[-1], '\\u001b[0m \\n')\n",
        "  # вывод размаха выборки\n",
        "  print('\\u001b[36;1m Размах выборки: \\u001b[34;1m', sort_br[-1] - sort_br[0], '\\u001b[0m \\n')"
      ],
      "metadata": {
        "colab": {
          "base_uri": "https://localhost:8080/"
        },
        "id": "YFOfWh6u4YBx",
        "outputId": "2f736e90-2634-4e6a-e91b-2abf41d6d232"
      },
      "execution_count": 58,
      "outputs": [
        {
          "output_type": "stream",
          "name": "stdout",
          "text": [
            "\u001b[36;1m Минимальный элемент выборки: \u001b[34;1m -91 \u001b[0m \n",
            "\n",
            "\u001b[36;1m Максимальный элемент выборки: \u001b[34;1m -21 \u001b[0m \n",
            "\n",
            "\u001b[36;1m Размах выборки: \u001b[34;1m 70 \u001b[0m \n",
            "\n"
          ]
        }
      ]
    },
    {
      "cell_type": "markdown",
      "source": [
        "***\n",
        "*   определить оптимальное количество интервалов группировки и длину интервала группировки\n",
        "***\n",
        "\n",
        "Для определения оптимального числа интервалов $n$ воспользуемся **правилом Стёрджеса**:\n",
        "$$n = 1 + \\lfloor \\log_2 N\\rfloor,$$\n",
        "где $N-$размер выборки."
      ],
      "metadata": {
        "id": "NoW4Igw64sH3"
      }
    },
    {
      "cell_type": "markdown",
      "source": [
        "***\n",
        "*   построить интервальный ряд и гистограмму, а также полигон ряда\n",
        "***"
      ],
      "metadata": {
        "id": "RT-4XNif5Bxi"
      }
    },
    {
      "cell_type": "markdown",
      "source": [
        "***\n",
        "*   записать эмпирическую функцию распределения и построить ее график, построить кумуляту\n",
        "***"
      ],
      "metadata": {
        "id": "_XxbS4jA5Oov"
      }
    },
    {
      "cell_type": "markdown",
      "source": [
        "***\n",
        "*   вычислить начальные и центральные эмпирические моменты до 4-го порядка\n",
        "***"
      ],
      "metadata": {
        "id": "NgGt_bp55fl_"
      }
    },
    {
      "cell_type": "markdown",
      "source": [
        "***\n",
        "*   найти моду (отметить на гистограмме), медиану (отметить на кумуляте), коэффициенты асимметрии и эксцесса\n",
        "***"
      ],
      "metadata": {
        "id": "U6_ZS02W5sTW"
      }
    },
    {
      "cell_type": "markdown",
      "source": [
        "***\n",
        "*   сделать выводы и сформулировать гипотезы о распределении генеральной совокупности, из которой извлечена выборка, оценить параметры этого распределения\n",
        "***"
      ],
      "metadata": {
        "id": "K5TMpZLI5_7Y"
      }
    }
  ]
}